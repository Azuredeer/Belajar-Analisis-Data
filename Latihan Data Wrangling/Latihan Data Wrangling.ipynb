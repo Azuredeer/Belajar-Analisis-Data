{
 "cells": [
  {
   "cell_type": "code",
   "execution_count": 1,
   "id": "76fbbf0a",
   "metadata": {},
   "outputs": [
    {
     "name": "stdout",
     "output_type": "stream",
     "text": [
      "Requirement already satisfied: numpy in c:\\users\\yoanr\\anaconda3\\lib\\site-packages (1.21.5)\n",
      "Requirement already satisfied: pandas in c:\\users\\yoanr\\anaconda3\\lib\\site-packages (1.4.4)\n",
      "Requirement already satisfied: scipy in c:\\users\\yoanr\\anaconda3\\lib\\site-packages (1.9.1)\n",
      "Requirement already satisfied: matplotlib in c:\\users\\yoanr\\anaconda3\\lib\\site-packages (3.5.2)\n",
      "Requirement already satisfied: seaborn in c:\\users\\yoanr\\anaconda3\\lib\\site-packages (0.11.2)\n",
      "Requirement already satisfied: jupyter in c:\\users\\yoanr\\anaconda3\\lib\\site-packages (1.0.0)\n",
      "Requirement already satisfied: pytz>=2020.1 in c:\\users\\yoanr\\anaconda3\\lib\\site-packages (from pandas) (2022.1)\n",
      "Requirement already satisfied: python-dateutil>=2.8.1 in c:\\users\\yoanr\\anaconda3\\lib\\site-packages (from pandas) (2.8.2)\n",
      "Requirement already satisfied: pillow>=6.2.0 in c:\\users\\yoanr\\anaconda3\\lib\\site-packages (from matplotlib) (9.2.0)\n",
      "Requirement already satisfied: packaging>=20.0 in c:\\users\\yoanr\\anaconda3\\lib\\site-packages (from matplotlib) (21.3)\n",
      "Requirement already satisfied: pyparsing>=2.2.1 in c:\\users\\yoanr\\anaconda3\\lib\\site-packages (from matplotlib) (3.0.9)\n",
      "Requirement already satisfied: cycler>=0.10 in c:\\users\\yoanr\\anaconda3\\lib\\site-packages (from matplotlib) (0.11.0)\n",
      "Requirement already satisfied: kiwisolver>=1.0.1 in c:\\users\\yoanr\\anaconda3\\lib\\site-packages (from matplotlib) (1.4.2)\n",
      "Requirement already satisfied: fonttools>=4.22.0 in c:\\users\\yoanr\\anaconda3\\lib\\site-packages (from matplotlib) (4.25.0)\n",
      "Requirement already satisfied: notebook in c:\\users\\yoanr\\anaconda3\\lib\\site-packages (from jupyter) (6.4.12)\n",
      "Requirement already satisfied: ipykernel in c:\\users\\yoanr\\anaconda3\\lib\\site-packages (from jupyter) (6.15.2)\n",
      "Requirement already satisfied: jupyter-console in c:\\users\\yoanr\\anaconda3\\lib\\site-packages (from jupyter) (6.4.3)\n",
      "Requirement already satisfied: qtconsole in c:\\users\\yoanr\\anaconda3\\lib\\site-packages (from jupyter) (5.2.2)\n",
      "Requirement already satisfied: ipywidgets in c:\\users\\yoanr\\anaconda3\\lib\\site-packages (from jupyter) (7.6.5)\n",
      "Requirement already satisfied: nbconvert in c:\\users\\yoanr\\anaconda3\\lib\\site-packages (from jupyter) (6.4.4)\n",
      "Requirement already satisfied: six>=1.5 in c:\\users\\yoanr\\anaconda3\\lib\\site-packages (from python-dateutil>=2.8.1->pandas) (1.16.0)\n",
      "Requirement already satisfied: jupyter-client>=6.1.12 in c:\\users\\yoanr\\anaconda3\\lib\\site-packages (from ipykernel->jupyter) (7.3.4)\n",
      "Requirement already satisfied: nest-asyncio in c:\\users\\yoanr\\anaconda3\\lib\\site-packages (from ipykernel->jupyter) (1.5.5)\n",
      "Requirement already satisfied: psutil in c:\\users\\yoanr\\anaconda3\\lib\\site-packages (from ipykernel->jupyter) (5.9.0)\n",
      "Requirement already satisfied: debugpy>=1.0 in c:\\users\\yoanr\\anaconda3\\lib\\site-packages (from ipykernel->jupyter) (1.5.1)\n",
      "Requirement already satisfied: pyzmq>=17 in c:\\users\\yoanr\\anaconda3\\lib\\site-packages (from ipykernel->jupyter) (23.2.0)\n",
      "Requirement already satisfied: traitlets>=5.1.0 in c:\\users\\yoanr\\anaconda3\\lib\\site-packages (from ipykernel->jupyter) (5.1.1)\n",
      "Requirement already satisfied: tornado>=6.1 in c:\\users\\yoanr\\anaconda3\\lib\\site-packages (from ipykernel->jupyter) (6.1)\n",
      "Requirement already satisfied: matplotlib-inline>=0.1 in c:\\users\\yoanr\\anaconda3\\lib\\site-packages (from ipykernel->jupyter) (0.1.6)\n",
      "Requirement already satisfied: ipython>=7.23.1 in c:\\users\\yoanr\\anaconda3\\lib\\site-packages (from ipykernel->jupyter) (7.31.1)\n",
      "Requirement already satisfied: jupyterlab-widgets>=1.0.0 in c:\\users\\yoanr\\anaconda3\\lib\\site-packages (from ipywidgets->jupyter) (1.0.0)\n",
      "Requirement already satisfied: nbformat>=4.2.0 in c:\\users\\yoanr\\anaconda3\\lib\\site-packages (from ipywidgets->jupyter) (5.5.0)\n",
      "Requirement already satisfied: widgetsnbextension~=3.5.0 in c:\\users\\yoanr\\anaconda3\\lib\\site-packages (from ipywidgets->jupyter) (3.5.2)\n",
      "Requirement already satisfied: ipython-genutils~=0.2.0 in c:\\users\\yoanr\\anaconda3\\lib\\site-packages (from ipywidgets->jupyter) (0.2.0)\n",
      "Requirement already satisfied: prompt-toolkit!=3.0.0,!=3.0.1,<3.1.0,>=2.0.0 in c:\\users\\yoanr\\anaconda3\\lib\\site-packages (from jupyter-console->jupyter) (3.0.20)\n",
      "Requirement already satisfied: pygments in c:\\users\\yoanr\\anaconda3\\lib\\site-packages (from jupyter-console->jupyter) (2.11.2)\n",
      "Requirement already satisfied: beautifulsoup4 in c:\\users\\yoanr\\anaconda3\\lib\\site-packages (from nbconvert->jupyter) (4.11.1)\n",
      "Requirement already satisfied: mistune<2,>=0.8.1 in c:\\users\\yoanr\\anaconda3\\lib\\site-packages (from nbconvert->jupyter) (0.8.4)\n",
      "Requirement already satisfied: jinja2>=2.4 in c:\\users\\yoanr\\anaconda3\\lib\\site-packages (from nbconvert->jupyter) (2.11.3)\n",
      "Requirement already satisfied: bleach in c:\\users\\yoanr\\anaconda3\\lib\\site-packages (from nbconvert->jupyter) (4.1.0)\n",
      "Requirement already satisfied: defusedxml in c:\\users\\yoanr\\anaconda3\\lib\\site-packages (from nbconvert->jupyter) (0.7.1)\n",
      "Requirement already satisfied: entrypoints>=0.2.2 in c:\\users\\yoanr\\anaconda3\\lib\\site-packages (from nbconvert->jupyter) (0.4)\n",
      "Requirement already satisfied: pandocfilters>=1.4.1 in c:\\users\\yoanr\\anaconda3\\lib\\site-packages (from nbconvert->jupyter) (1.5.0)\n",
      "Requirement already satisfied: jupyter-core in c:\\users\\yoanr\\anaconda3\\lib\\site-packages (from nbconvert->jupyter) (4.11.1)\n",
      "Requirement already satisfied: testpath in c:\\users\\yoanr\\anaconda3\\lib\\site-packages (from nbconvert->jupyter) (0.6.0)\n",
      "Requirement already satisfied: nbclient<0.6.0,>=0.5.0 in c:\\users\\yoanr\\anaconda3\\lib\\site-packages (from nbconvert->jupyter) (0.5.13)\n",
      "Requirement already satisfied: jupyterlab-pygments in c:\\users\\yoanr\\anaconda3\\lib\\site-packages (from nbconvert->jupyter) (0.1.2)\n",
      "Requirement already satisfied: argon2-cffi in c:\\users\\yoanr\\anaconda3\\lib\\site-packages (from notebook->jupyter) (21.3.0)\n",
      "Requirement already satisfied: Send2Trash>=1.8.0 in c:\\users\\yoanr\\anaconda3\\lib\\site-packages (from notebook->jupyter) (1.8.0)\n",
      "Requirement already satisfied: prometheus-client in c:\\users\\yoanr\\anaconda3\\lib\\site-packages (from notebook->jupyter) (0.14.1)\n",
      "Requirement already satisfied: terminado>=0.8.3 in c:\\users\\yoanr\\anaconda3\\lib\\site-packages (from notebook->jupyter) (0.13.1)\n",
      "Requirement already satisfied: qtpy in c:\\users\\yoanr\\anaconda3\\lib\\site-packages (from qtconsole->jupyter) (2.2.0)\n",
      "Requirement already satisfied: colorama in c:\\users\\yoanr\\anaconda3\\lib\\site-packages (from ipython>=7.23.1->ipykernel->jupyter) (0.4.5)\n",
      "Requirement already satisfied: backcall in c:\\users\\yoanr\\anaconda3\\lib\\site-packages (from ipython>=7.23.1->ipykernel->jupyter) (0.2.0)\n",
      "Requirement already satisfied: decorator in c:\\users\\yoanr\\anaconda3\\lib\\site-packages (from ipython>=7.23.1->ipykernel->jupyter) (5.1.1)\n",
      "Requirement already satisfied: jedi>=0.16 in c:\\users\\yoanr\\anaconda3\\lib\\site-packages (from ipython>=7.23.1->ipykernel->jupyter) (0.18.1)\n",
      "Requirement already satisfied: pickleshare in c:\\users\\yoanr\\anaconda3\\lib\\site-packages (from ipython>=7.23.1->ipykernel->jupyter) (0.7.5)\n",
      "Requirement already satisfied: setuptools>=18.5 in c:\\users\\yoanr\\anaconda3\\lib\\site-packages (from ipython>=7.23.1->ipykernel->jupyter) (63.4.1)\n",
      "Requirement already satisfied: MarkupSafe>=0.23 in c:\\users\\yoanr\\anaconda3\\lib\\site-packages (from jinja2>=2.4->nbconvert->jupyter) (2.0.1)\n",
      "Requirement already satisfied: pywin32>=1.0 in c:\\users\\yoanr\\anaconda3\\lib\\site-packages (from jupyter-core->nbconvert->jupyter) (302)\n",
      "Requirement already satisfied: fastjsonschema in c:\\users\\yoanr\\anaconda3\\lib\\site-packages (from nbformat>=4.2.0->ipywidgets->jupyter) (2.16.2)\n",
      "Requirement already satisfied: jsonschema>=2.6 in c:\\users\\yoanr\\anaconda3\\lib\\site-packages (from nbformat>=4.2.0->ipywidgets->jupyter) (4.16.0)\n",
      "Requirement already satisfied: wcwidth in c:\\users\\yoanr\\anaconda3\\lib\\site-packages (from prompt-toolkit!=3.0.0,!=3.0.1,<3.1.0,>=2.0.0->jupyter-console->jupyter) (0.2.5)\n",
      "Requirement already satisfied: pywinpty>=1.1.0 in c:\\users\\yoanr\\anaconda3\\lib\\site-packages (from terminado>=0.8.3->notebook->jupyter) (2.0.2)\n",
      "Requirement already satisfied: argon2-cffi-bindings in c:\\users\\yoanr\\anaconda3\\lib\\site-packages (from argon2-cffi->notebook->jupyter) (21.2.0)\n",
      "Requirement already satisfied: soupsieve>1.2 in c:\\users\\yoanr\\anaconda3\\lib\\site-packages (from beautifulsoup4->nbconvert->jupyter) (2.3.1)\n",
      "Requirement already satisfied: webencodings in c:\\users\\yoanr\\anaconda3\\lib\\site-packages (from bleach->nbconvert->jupyter) (0.5.1)\n",
      "Requirement already satisfied: parso<0.9.0,>=0.8.0 in c:\\users\\yoanr\\anaconda3\\lib\\site-packages (from jedi>=0.16->ipython>=7.23.1->ipykernel->jupyter) (0.8.3)\n",
      "Requirement already satisfied: pyrsistent!=0.17.0,!=0.17.1,!=0.17.2,>=0.14.0 in c:\\users\\yoanr\\anaconda3\\lib\\site-packages (from jsonschema>=2.6->nbformat>=4.2.0->ipywidgets->jupyter) (0.18.0)\n",
      "Requirement already satisfied: attrs>=17.4.0 in c:\\users\\yoanr\\anaconda3\\lib\\site-packages (from jsonschema>=2.6->nbformat>=4.2.0->ipywidgets->jupyter) (21.4.0)\n",
      "Requirement already satisfied: cffi>=1.0.1 in c:\\users\\yoanr\\anaconda3\\lib\\site-packages (from argon2-cffi-bindings->argon2-cffi->notebook->jupyter) (1.15.1)\n",
      "Requirement already satisfied: pycparser in c:\\users\\yoanr\\anaconda3\\lib\\site-packages (from cffi>=1.0.1->argon2-cffi-bindings->argon2-cffi->notebook->jupyter) (2.21)\n",
      "Note: you may need to restart the kernel to use updated packages.\n"
     ]
    }
   ],
   "source": [
    "pip install numpy pandas scipy matplotlib seaborn jupyter"
   ]
  },
  {
   "cell_type": "markdown",
   "id": "9ba20952",
   "metadata": {},
   "source": [
    "# GATHERING DATA"
   ]
  },
  {
   "cell_type": "markdown",
   "id": "e7406f55",
   "metadata": {},
   "source": [
    "Pada tahap ini, kita akan mengumpulkan semua data yang dibutuhkan. Beruntungnya data yang kita butuhkan telah tersedia dalam repository dataset Dicoding yang dapat diakses melalui tautan berikut: Dicoding Collection. "
   ]
  },
  {
   "cell_type": "code",
   "execution_count": 3,
   "id": "3b01dfb6",
   "metadata": {},
   "outputs": [],
   "source": [
    "import pandas as pd\n",
    "import numpy as np\n",
    "import matplotlib.pyplot as plt\n",
    "import seaborn as sns"
   ]
  },
  {
   "cell_type": "markdown",
   "id": "efc301b2",
   "metadata": {},
   "source": [
    "## Memuat tabel customer"
   ]
  },
  {
   "cell_type": "markdown",
   "id": "600f2a81",
   "metadata": {},
   "source": [
    "Data pertama yang harus kita muat ialah data dari tabel customers. Berikut merupakan kode untuk memuat tabel tersebut menjadi sebuah DataFrame."
   ]
  },
  {
   "cell_type": "code",
   "execution_count": 5,
   "id": "1067e515",
   "metadata": {},
   "outputs": [
    {
     "data": {
      "text/html": [
       "<div>\n",
       "<style scoped>\n",
       "    .dataframe tbody tr th:only-of-type {\n",
       "        vertical-align: middle;\n",
       "    }\n",
       "\n",
       "    .dataframe tbody tr th {\n",
       "        vertical-align: top;\n",
       "    }\n",
       "\n",
       "    .dataframe thead th {\n",
       "        text-align: right;\n",
       "    }\n",
       "</style>\n",
       "<table border=\"1\" class=\"dataframe\">\n",
       "  <thead>\n",
       "    <tr style=\"text-align: right;\">\n",
       "      <th></th>\n",
       "      <th>customer_id</th>\n",
       "      <th>customer_name</th>\n",
       "      <th>gender</th>\n",
       "      <th>age</th>\n",
       "      <th>home_address</th>\n",
       "      <th>zip_code</th>\n",
       "      <th>city</th>\n",
       "      <th>state</th>\n",
       "      <th>country</th>\n",
       "    </tr>\n",
       "  </thead>\n",
       "  <tbody>\n",
       "    <tr>\n",
       "      <th>0</th>\n",
       "      <td>1</td>\n",
       "      <td>fulan 1</td>\n",
       "      <td>Female</td>\n",
       "      <td>30</td>\n",
       "      <td>8606 Victoria TerraceSuite 560</td>\n",
       "      <td>5464</td>\n",
       "      <td>Johnstonhaven</td>\n",
       "      <td>Northern Territory</td>\n",
       "      <td>Australia</td>\n",
       "    </tr>\n",
       "    <tr>\n",
       "      <th>1</th>\n",
       "      <td>2</td>\n",
       "      <td>fulan 2</td>\n",
       "      <td>Prefer not to say</td>\n",
       "      <td>69</td>\n",
       "      <td>8327 Kirlin SummitApt. 461</td>\n",
       "      <td>8223</td>\n",
       "      <td>New Zacharyfort</td>\n",
       "      <td>South Australia</td>\n",
       "      <td>Australia</td>\n",
       "    </tr>\n",
       "    <tr>\n",
       "      <th>2</th>\n",
       "      <td>3</td>\n",
       "      <td>fulan 3</td>\n",
       "      <td>Prefer not to say</td>\n",
       "      <td>59</td>\n",
       "      <td>269 Gemma SummitSuite 109</td>\n",
       "      <td>5661</td>\n",
       "      <td>Aliburgh</td>\n",
       "      <td>Australian Capital Territory</td>\n",
       "      <td>Australia</td>\n",
       "    </tr>\n",
       "    <tr>\n",
       "      <th>3</th>\n",
       "      <td>4</td>\n",
       "      <td>fulan 4</td>\n",
       "      <td>Prefer not to say</td>\n",
       "      <td>67</td>\n",
       "      <td>743 Bailey GroveSuite 141</td>\n",
       "      <td>1729</td>\n",
       "      <td>South Justinhaven</td>\n",
       "      <td>Queensland</td>\n",
       "      <td>Australia</td>\n",
       "    </tr>\n",
       "    <tr>\n",
       "      <th>4</th>\n",
       "      <td>5</td>\n",
       "      <td>fulan 5</td>\n",
       "      <td>Prefer not to say</td>\n",
       "      <td>30</td>\n",
       "      <td>48 Hyatt ManorSuite 375</td>\n",
       "      <td>4032</td>\n",
       "      <td>Griffithsshire</td>\n",
       "      <td>Queensland</td>\n",
       "      <td>Australia</td>\n",
       "    </tr>\n",
       "  </tbody>\n",
       "</table>\n",
       "</div>"
      ],
      "text/plain": [
       "   customer_id customer_name             gender  age  \\\n",
       "0            1       fulan 1             Female   30   \n",
       "1            2       fulan 2  Prefer not to say   69   \n",
       "2            3       fulan 3  Prefer not to say   59   \n",
       "3            4       fulan 4  Prefer not to say   67   \n",
       "4            5       fulan 5  Prefer not to say   30   \n",
       "\n",
       "                     home_address  zip_code               city  \\\n",
       "0  8606 Victoria TerraceSuite 560      5464      Johnstonhaven   \n",
       "1      8327 Kirlin SummitApt. 461      8223    New Zacharyfort   \n",
       "2       269 Gemma SummitSuite 109      5661           Aliburgh   \n",
       "3       743 Bailey GroveSuite 141      1729  South Justinhaven   \n",
       "4         48 Hyatt ManorSuite 375      4032     Griffithsshire   \n",
       "\n",
       "                          state    country  \n",
       "0            Northern Territory  Australia  \n",
       "1               South Australia  Australia  \n",
       "2  Australian Capital Territory  Australia  \n",
       "3                    Queensland  Australia  \n",
       "4                    Queensland  Australia  "
      ]
     },
     "execution_count": 5,
     "metadata": {},
     "output_type": "execute_result"
    }
   ],
   "source": [
    "customers_df = pd.read_csv(\"https://raw.githubusercontent.com/dicodingacademy/dicoding_dataset/main/DicodingCollection/customers.csv\")\n",
    "customers_df.head()"
   ]
  },
  {
   "cell_type": "markdown",
   "id": "e8f12611",
   "metadata": {},
   "source": [
    "## Memuat tabel orders "
   ]
  },
  {
   "cell_type": "markdown",
   "id": "679b21e6",
   "metadata": {},
   "source": [
    "Data selanjutnya yang harus kita muat ialah data dari tabel orders. Hal ini dapat dilakukan dengan menjalankan kode berikut."
   ]
  },
  {
   "cell_type": "code",
   "execution_count": 6,
   "id": "d8a7e253",
   "metadata": {},
   "outputs": [
    {
     "data": {
      "text/html": [
       "<div>\n",
       "<style scoped>\n",
       "    .dataframe tbody tr th:only-of-type {\n",
       "        vertical-align: middle;\n",
       "    }\n",
       "\n",
       "    .dataframe tbody tr th {\n",
       "        vertical-align: top;\n",
       "    }\n",
       "\n",
       "    .dataframe thead th {\n",
       "        text-align: right;\n",
       "    }\n",
       "</style>\n",
       "<table border=\"1\" class=\"dataframe\">\n",
       "  <thead>\n",
       "    <tr style=\"text-align: right;\">\n",
       "      <th></th>\n",
       "      <th>order_id</th>\n",
       "      <th>customer_id</th>\n",
       "      <th>payment</th>\n",
       "      <th>order_date</th>\n",
       "      <th>delivery_date</th>\n",
       "    </tr>\n",
       "  </thead>\n",
       "  <tbody>\n",
       "    <tr>\n",
       "      <th>0</th>\n",
       "      <td>1</td>\n",
       "      <td>64</td>\n",
       "      <td>30811</td>\n",
       "      <td>2021-8-30</td>\n",
       "      <td>2021-09-24</td>\n",
       "    </tr>\n",
       "    <tr>\n",
       "      <th>1</th>\n",
       "      <td>2</td>\n",
       "      <td>473</td>\n",
       "      <td>50490</td>\n",
       "      <td>2021-2-3</td>\n",
       "      <td>2021-02-13</td>\n",
       "    </tr>\n",
       "    <tr>\n",
       "      <th>2</th>\n",
       "      <td>3</td>\n",
       "      <td>774</td>\n",
       "      <td>46763</td>\n",
       "      <td>2021-10-8</td>\n",
       "      <td>2021-11-03</td>\n",
       "    </tr>\n",
       "    <tr>\n",
       "      <th>3</th>\n",
       "      <td>4</td>\n",
       "      <td>433</td>\n",
       "      <td>39782</td>\n",
       "      <td>2021-5-6</td>\n",
       "      <td>2021-05-19</td>\n",
       "    </tr>\n",
       "    <tr>\n",
       "      <th>4</th>\n",
       "      <td>5</td>\n",
       "      <td>441</td>\n",
       "      <td>14719</td>\n",
       "      <td>2021-3-23</td>\n",
       "      <td>2021-03-24</td>\n",
       "    </tr>\n",
       "  </tbody>\n",
       "</table>\n",
       "</div>"
      ],
      "text/plain": [
       "   order_id  customer_id  payment order_date delivery_date\n",
       "0         1           64    30811  2021-8-30    2021-09-24\n",
       "1         2          473    50490   2021-2-3    2021-02-13\n",
       "2         3          774    46763  2021-10-8    2021-11-03\n",
       "3         4          433    39782   2021-5-6    2021-05-19\n",
       "4         5          441    14719  2021-3-23    2021-03-24"
      ]
     },
     "execution_count": 6,
     "metadata": {},
     "output_type": "execute_result"
    }
   ],
   "source": [
    "orders_df = pd.read_csv(\"https://raw.githubusercontent.com/dicodingacademy/dicoding_dataset/main/DicodingCollection/orders.csv\")\n",
    "orders_df.head()"
   ]
  },
  {
   "cell_type": "markdown",
   "id": "ae9b2f6e",
   "metadata": {},
   "source": [
    "## Membuat tabel product"
   ]
  },
  {
   "cell_type": "markdown",
   "id": "218aed2b",
   "metadata": {},
   "source": [
    "Tabel berikutnya yang harus kita muat ialah tabel product. Berikut merupakan kode yang dapat digunakan untuk membuat tabel product menjadi sebuah DataFrame bernama product_df."
   ]
  },
  {
   "cell_type": "code",
   "execution_count": 7,
   "id": "cbff222c",
   "metadata": {},
   "outputs": [
    {
     "data": {
      "text/html": [
       "<div>\n",
       "<style scoped>\n",
       "    .dataframe tbody tr th:only-of-type {\n",
       "        vertical-align: middle;\n",
       "    }\n",
       "\n",
       "    .dataframe tbody tr th {\n",
       "        vertical-align: top;\n",
       "    }\n",
       "\n",
       "    .dataframe thead th {\n",
       "        text-align: right;\n",
       "    }\n",
       "</style>\n",
       "<table border=\"1\" class=\"dataframe\">\n",
       "  <thead>\n",
       "    <tr style=\"text-align: right;\">\n",
       "      <th></th>\n",
       "      <th>product_id</th>\n",
       "      <th>product_type</th>\n",
       "      <th>product_name</th>\n",
       "      <th>size</th>\n",
       "      <th>colour</th>\n",
       "      <th>price</th>\n",
       "      <th>quantity</th>\n",
       "      <th>description</th>\n",
       "    </tr>\n",
       "  </thead>\n",
       "  <tbody>\n",
       "    <tr>\n",
       "      <th>0</th>\n",
       "      <td>0</td>\n",
       "      <td>Shirt</td>\n",
       "      <td>Oxford Cloth</td>\n",
       "      <td>XS</td>\n",
       "      <td>red</td>\n",
       "      <td>114</td>\n",
       "      <td>66</td>\n",
       "      <td>A red coloured, XS sized, Oxford Cloth Shirt</td>\n",
       "    </tr>\n",
       "    <tr>\n",
       "      <th>1</th>\n",
       "      <td>1</td>\n",
       "      <td>Shirt</td>\n",
       "      <td>Oxford Cloth</td>\n",
       "      <td>S</td>\n",
       "      <td>red</td>\n",
       "      <td>114</td>\n",
       "      <td>53</td>\n",
       "      <td>A red coloured, S sized, Oxford Cloth Shirt</td>\n",
       "    </tr>\n",
       "    <tr>\n",
       "      <th>2</th>\n",
       "      <td>2</td>\n",
       "      <td>Shirt</td>\n",
       "      <td>Oxford Cloth</td>\n",
       "      <td>M</td>\n",
       "      <td>red</td>\n",
       "      <td>114</td>\n",
       "      <td>54</td>\n",
       "      <td>A red coloured, M sized, Oxford Cloth Shirt</td>\n",
       "    </tr>\n",
       "    <tr>\n",
       "      <th>3</th>\n",
       "      <td>3</td>\n",
       "      <td>Shirt</td>\n",
       "      <td>Oxford Cloth</td>\n",
       "      <td>L</td>\n",
       "      <td>red</td>\n",
       "      <td>114</td>\n",
       "      <td>69</td>\n",
       "      <td>A red coloured, L sized, Oxford Cloth Shirt</td>\n",
       "    </tr>\n",
       "    <tr>\n",
       "      <th>4</th>\n",
       "      <td>4</td>\n",
       "      <td>Shirt</td>\n",
       "      <td>Oxford Cloth</td>\n",
       "      <td>XL</td>\n",
       "      <td>red</td>\n",
       "      <td>114</td>\n",
       "      <td>47</td>\n",
       "      <td>A red coloured, XL sized, Oxford Cloth Shirt</td>\n",
       "    </tr>\n",
       "  </tbody>\n",
       "</table>\n",
       "</div>"
      ],
      "text/plain": [
       "   product_id product_type  product_name size colour  price  quantity  \\\n",
       "0           0        Shirt  Oxford Cloth   XS    red    114        66   \n",
       "1           1        Shirt  Oxford Cloth    S    red    114        53   \n",
       "2           2        Shirt  Oxford Cloth    M    red    114        54   \n",
       "3           3        Shirt  Oxford Cloth    L    red    114        69   \n",
       "4           4        Shirt  Oxford Cloth   XL    red    114        47   \n",
       "\n",
       "                                    description  \n",
       "0  A red coloured, XS sized, Oxford Cloth Shirt  \n",
       "1   A red coloured, S sized, Oxford Cloth Shirt  \n",
       "2   A red coloured, M sized, Oxford Cloth Shirt  \n",
       "3   A red coloured, L sized, Oxford Cloth Shirt  \n",
       "4  A red coloured, XL sized, Oxford Cloth Shirt  "
      ]
     },
     "execution_count": 7,
     "metadata": {},
     "output_type": "execute_result"
    }
   ],
   "source": [
    "product_df = pd.read_csv(\"https://raw.githubusercontent.com/dicodingacademy/dicoding_dataset/main/DicodingCollection/products.csv\")\n",
    "product_df.head()"
   ]
  },
  {
   "cell_type": "markdown",
   "id": "515107ae",
   "metadata": {},
   "source": [
    "## Memuat tabel sales"
   ]
  },
  {
   "cell_type": "markdown",
   "id": "287544f7",
   "metadata": {},
   "source": [
    "Last but not least, tabel terakhir yang harus kita muat ialah tabel sales. Berikut merupakan contoh kode untuk melakukannya."
   ]
  },
  {
   "cell_type": "code",
   "execution_count": 8,
   "id": "d27da83e",
   "metadata": {},
   "outputs": [
    {
     "data": {
      "text/html": [
       "<div>\n",
       "<style scoped>\n",
       "    .dataframe tbody tr th:only-of-type {\n",
       "        vertical-align: middle;\n",
       "    }\n",
       "\n",
       "    .dataframe tbody tr th {\n",
       "        vertical-align: top;\n",
       "    }\n",
       "\n",
       "    .dataframe thead th {\n",
       "        text-align: right;\n",
       "    }\n",
       "</style>\n",
       "<table border=\"1\" class=\"dataframe\">\n",
       "  <thead>\n",
       "    <tr style=\"text-align: right;\">\n",
       "      <th></th>\n",
       "      <th>sales_id</th>\n",
       "      <th>order_id</th>\n",
       "      <th>product_id</th>\n",
       "      <th>price_per_unit</th>\n",
       "      <th>quantity</th>\n",
       "      <th>total_price</th>\n",
       "    </tr>\n",
       "  </thead>\n",
       "  <tbody>\n",
       "    <tr>\n",
       "      <th>0</th>\n",
       "      <td>0</td>\n",
       "      <td>1</td>\n",
       "      <td>218</td>\n",
       "      <td>106</td>\n",
       "      <td>2</td>\n",
       "      <td>212.0</td>\n",
       "    </tr>\n",
       "    <tr>\n",
       "      <th>1</th>\n",
       "      <td>1</td>\n",
       "      <td>1</td>\n",
       "      <td>481</td>\n",
       "      <td>118</td>\n",
       "      <td>1</td>\n",
       "      <td>118.0</td>\n",
       "    </tr>\n",
       "    <tr>\n",
       "      <th>2</th>\n",
       "      <td>2</td>\n",
       "      <td>1</td>\n",
       "      <td>2</td>\n",
       "      <td>96</td>\n",
       "      <td>3</td>\n",
       "      <td>288.0</td>\n",
       "    </tr>\n",
       "    <tr>\n",
       "      <th>3</th>\n",
       "      <td>3</td>\n",
       "      <td>1</td>\n",
       "      <td>1002</td>\n",
       "      <td>106</td>\n",
       "      <td>2</td>\n",
       "      <td>212.0</td>\n",
       "    </tr>\n",
       "    <tr>\n",
       "      <th>4</th>\n",
       "      <td>4</td>\n",
       "      <td>1</td>\n",
       "      <td>691</td>\n",
       "      <td>113</td>\n",
       "      <td>3</td>\n",
       "      <td>339.0</td>\n",
       "    </tr>\n",
       "  </tbody>\n",
       "</table>\n",
       "</div>"
      ],
      "text/plain": [
       "   sales_id  order_id  product_id  price_per_unit  quantity  total_price\n",
       "0         0         1         218             106         2        212.0\n",
       "1         1         1         481             118         1        118.0\n",
       "2         2         1           2              96         3        288.0\n",
       "3         3         1        1002             106         2        212.0\n",
       "4         4         1         691             113         3        339.0"
      ]
     },
     "execution_count": 8,
     "metadata": {},
     "output_type": "execute_result"
    }
   ],
   "source": [
    "sales_df = pd.read_csv(\"https://raw.githubusercontent.com/dicodingacademy/dicoding_dataset/main/DicodingCollection/sales.csv\")\n",
    "sales_df.head()"
   ]
  },
  {
   "cell_type": "markdown",
   "id": "4578576d",
   "metadata": {},
   "source": [
    "# ASSESSING DATA"
   ]
  },
  {
   "cell_type": "markdown",
   "id": "34f47e0c",
   "metadata": {},
   "source": [
    "Pada proses ini kita akan menilai kualitas dari seluruh data yang akan digunakan. Penilaian ini bertujuan untuk melihat berbagai permasalahan yang ada dalam data tersebut."
   ]
  },
  {
   "cell_type": "markdown",
   "id": "b6b9f768",
   "metadata": {},
   "source": [
    "## Menilai Data customers.df"
   ]
  },
  {
   "cell_type": "markdown",
   "id": "58865bac",
   "metadata": {},
   "source": [
    "Data pertama yang akan kita nilai adalah customers_df. Sebagai permulaan, kita memeriksa tipe data data dari tiap kolom yang terdapat dalam customers_df. Proses ini dapat dilakukan menggunakan method info() seperti contoh kode berikut."
   ]
  },
  {
   "cell_type": "code",
   "execution_count": 9,
   "id": "df0a46ec",
   "metadata": {},
   "outputs": [
    {
     "name": "stdout",
     "output_type": "stream",
     "text": [
      "<class 'pandas.core.frame.DataFrame'>\n",
      "RangeIndex: 1007 entries, 0 to 1006\n",
      "Data columns (total 9 columns):\n",
      " #   Column         Non-Null Count  Dtype \n",
      "---  ------         --------------  ----- \n",
      " 0   customer_id    1007 non-null   int64 \n",
      " 1   customer_name  1007 non-null   object\n",
      " 2   gender         989 non-null    object\n",
      " 3   age            1007 non-null   int64 \n",
      " 4   home_address   1007 non-null   object\n",
      " 5   zip_code       1007 non-null   int64 \n",
      " 6   city           1007 non-null   object\n",
      " 7   state          1007 non-null   object\n",
      " 8   country        1007 non-null   object\n",
      "dtypes: int64(3), object(6)\n",
      "memory usage: 70.9+ KB\n"
     ]
    }
   ],
   "source": [
    " customers_df.info()"
   ]
  },
  {
   "cell_type": "markdown",
   "id": "fb285aae",
   "metadata": {},
   "source": [
    "Jika Anda perhatikan, tidak ada masalah dengan tipe data dari seluruh kolom tersebut. Akan tetapi, terdapat sedikit perbedaan pada jumlah data pada kolom gender. Hal ini menunjukkan adanya missing values pada kolom gender. Nah, untuk memastikan hal ini, jalankan kode berikut."
   ]
  },
  {
   "cell_type": "code",
   "execution_count": 10,
   "id": "6e1cf48d",
   "metadata": {},
   "outputs": [
    {
     "data": {
      "text/plain": [
       "customer_id       0\n",
       "customer_name     0\n",
       "gender           18\n",
       "age               0\n",
       "home_address      0\n",
       "zip_code          0\n",
       "city              0\n",
       "state             0\n",
       "country           0\n",
       "dtype: int64"
      ]
     },
     "execution_count": 10,
     "metadata": {},
     "output_type": "execute_result"
    }
   ],
   "source": [
    "customers_df.isna().sum()"
   ]
  },
  {
   "cell_type": "markdown",
   "id": "78cf6554",
   "metadata": {},
   "source": [
    "Nah, gambar di atas menunjukkan bahwa terdapat 18 missing values pada kolom gender. Hal ini akan kita tangani pada tahap data cleaning nanti.\n",
    "\n",
    "Masalah selanjutnya yang harus kita periksa ialah duplikasi data. Untuk memeriksa hal ini, kita bisa menjalankan kode berikut."
   ]
  },
  {
   "cell_type": "code",
   "execution_count": 12,
   "id": "ad709ccc",
   "metadata": {},
   "outputs": [
    {
     "name": "stdout",
     "output_type": "stream",
     "text": [
      "Jumlah Duplikasi:  6\n"
     ]
    }
   ],
   "source": [
    "print(\"Jumlah Duplikasi: \", customers_df.duplicated().sum())"
   ]
  },
  {
   "cell_type": "markdown",
   "id": "1714eb7c",
   "metadata": {},
   "source": [
    "Ketika menjalankan kode di atas, Anda akan menemukan bahwa terdapat 6 data yang terduplikat. Pada tahap data cleaning nanti, kita akan menghilangkan semua duplikasi tersebut.\n",
    "\n",
    "Sekarang kita memeriksa parameter statistik dari kolom numerik yang terdapat dalam customers_df. Untuk mempermudah pemeriksaan, kita akan menggunakan method describe(). Method tersebut akan menampilkan ringkasan parameter statistik (mean, median, dll.) dari kolom numerik pada sebuah DataFrame. Berikut merupakan contoh penggunaannya."
   ]
  },
  {
   "cell_type": "code",
   "execution_count": 13,
   "id": "461297d1",
   "metadata": {},
   "outputs": [
    {
     "data": {
      "text/html": [
       "<div>\n",
       "<style scoped>\n",
       "    .dataframe tbody tr th:only-of-type {\n",
       "        vertical-align: middle;\n",
       "    }\n",
       "\n",
       "    .dataframe tbody tr th {\n",
       "        vertical-align: top;\n",
       "    }\n",
       "\n",
       "    .dataframe thead th {\n",
       "        text-align: right;\n",
       "    }\n",
       "</style>\n",
       "<table border=\"1\" class=\"dataframe\">\n",
       "  <thead>\n",
       "    <tr style=\"text-align: right;\">\n",
       "      <th></th>\n",
       "      <th>customer_id</th>\n",
       "      <th>age</th>\n",
       "      <th>zip_code</th>\n",
       "    </tr>\n",
       "  </thead>\n",
       "  <tbody>\n",
       "    <tr>\n",
       "      <th>count</th>\n",
       "      <td>1007.000000</td>\n",
       "      <td>1007.000000</td>\n",
       "      <td>1007.000000</td>\n",
       "    </tr>\n",
       "    <tr>\n",
       "      <th>mean</th>\n",
       "      <td>501.726912</td>\n",
       "      <td>50.929494</td>\n",
       "      <td>5012.538232</td>\n",
       "    </tr>\n",
       "    <tr>\n",
       "      <th>std</th>\n",
       "      <td>288.673238</td>\n",
       "      <td>30.516299</td>\n",
       "      <td>2885.836112</td>\n",
       "    </tr>\n",
       "    <tr>\n",
       "      <th>min</th>\n",
       "      <td>1.000000</td>\n",
       "      <td>20.000000</td>\n",
       "      <td>2.000000</td>\n",
       "    </tr>\n",
       "    <tr>\n",
       "      <th>25%</th>\n",
       "      <td>252.500000</td>\n",
       "      <td>34.000000</td>\n",
       "      <td>2403.500000</td>\n",
       "    </tr>\n",
       "    <tr>\n",
       "      <th>50%</th>\n",
       "      <td>502.000000</td>\n",
       "      <td>50.000000</td>\n",
       "      <td>5087.000000</td>\n",
       "    </tr>\n",
       "    <tr>\n",
       "      <th>75%</th>\n",
       "      <td>751.500000</td>\n",
       "      <td>65.000000</td>\n",
       "      <td>7493.500000</td>\n",
       "    </tr>\n",
       "    <tr>\n",
       "      <th>max</th>\n",
       "      <td>1000.000000</td>\n",
       "      <td>700.000000</td>\n",
       "      <td>9998.000000</td>\n",
       "    </tr>\n",
       "  </tbody>\n",
       "</table>\n",
       "</div>"
      ],
      "text/plain": [
       "       customer_id          age     zip_code\n",
       "count  1007.000000  1007.000000  1007.000000\n",
       "mean    501.726912    50.929494  5012.538232\n",
       "std     288.673238    30.516299  2885.836112\n",
       "min       1.000000    20.000000     2.000000\n",
       "25%     252.500000    34.000000  2403.500000\n",
       "50%     502.000000    50.000000  5087.000000\n",
       "75%     751.500000    65.000000  7493.500000\n",
       "max    1000.000000   700.000000  9998.000000"
      ]
     },
     "execution_count": 13,
     "metadata": {},
     "output_type": "execute_result"
    }
   ],
   "source": [
    "customers_df.describe()"
   ]
  },
  {
   "cell_type": "markdown",
   "id": "9fad4789",
   "metadata": {},
   "source": [
    "Jika diperhatikan, terdapat keanehan pada nilai maksimum yang terdapat pada kolom age. Ini kemungkinan besar terjadi karena adanya inaccurate value pada kolom tersebut. Masalah ini juga akan kita bersihkan dalam tahap cleaning data"
   ]
  },
  {
   "cell_type": "markdown",
   "id": "ce63830d",
   "metadata": {},
   "source": [
    "## Menilai Data orders_df"
   ]
  },
  {
   "cell_type": "markdown",
   "id": "07d9e377",
   "metadata": {},
   "source": [
    "Oke, selanjutnya kita akan menilai data pada orders_df. Seperti biasa, kita akan mulai dengan memeriksa tipe data dari tiap kolom menggunakan method info()."
   ]
  },
  {
   "cell_type": "code",
   "execution_count": 14,
   "id": "3ef0a277",
   "metadata": {},
   "outputs": [
    {
     "name": "stdout",
     "output_type": "stream",
     "text": [
      "<class 'pandas.core.frame.DataFrame'>\n",
      "RangeIndex: 1000 entries, 0 to 999\n",
      "Data columns (total 5 columns):\n",
      " #   Column         Non-Null Count  Dtype \n",
      "---  ------         --------------  ----- \n",
      " 0   order_id       1000 non-null   int64 \n",
      " 1   customer_id    1000 non-null   int64 \n",
      " 2   payment        1000 non-null   int64 \n",
      " 3   order_date     1000 non-null   object\n",
      " 4   delivery_date  1000 non-null   object\n",
      "dtypes: int64(3), object(2)\n",
      "memory usage: 39.2+ KB\n"
     ]
    }
   ],
   "source": [
    "orders_df.info()"
   ]
  },
  {
   "cell_type": "markdown",
   "id": "fac72d54",
   "metadata": {},
   "source": [
    "Jika Anda perhatikan, jumlah data pada orders_df telah lengkap atau dengan kata lain tidak ada missing value di dalamnya. Akan tetapi, terdapat kesalahan tipe data untuk kolom order_date & delivery_date. Kedua kolom tersebut harusnya direpresentasikan sebagai tipe data datetime, bukan object (ini digunakan untuk tipe data string).\n",
    "\n",
    "Berikutnya, kita perlu memeriksa duplikasi dan ringkasan parameter statistik dari kolom numerik pada orders_df. Proses ini dilakukan dengan menjalankan kode berikut."
   ]
  },
  {
   "cell_type": "code",
   "execution_count": 16,
   "id": "d3970302",
   "metadata": {},
   "outputs": [
    {
     "name": "stdout",
     "output_type": "stream",
     "text": [
      "Jumlah Duplikat:  0\n"
     ]
    },
    {
     "data": {
      "text/html": [
       "<div>\n",
       "<style scoped>\n",
       "    .dataframe tbody tr th:only-of-type {\n",
       "        vertical-align: middle;\n",
       "    }\n",
       "\n",
       "    .dataframe tbody tr th {\n",
       "        vertical-align: top;\n",
       "    }\n",
       "\n",
       "    .dataframe thead th {\n",
       "        text-align: right;\n",
       "    }\n",
       "</style>\n",
       "<table border=\"1\" class=\"dataframe\">\n",
       "  <thead>\n",
       "    <tr style=\"text-align: right;\">\n",
       "      <th></th>\n",
       "      <th>order_id</th>\n",
       "      <th>customer_id</th>\n",
       "      <th>payment</th>\n",
       "    </tr>\n",
       "  </thead>\n",
       "  <tbody>\n",
       "    <tr>\n",
       "      <th>count</th>\n",
       "      <td>1000.000000</td>\n",
       "      <td>1000.000000</td>\n",
       "      <td>1000.000000</td>\n",
       "    </tr>\n",
       "    <tr>\n",
       "      <th>mean</th>\n",
       "      <td>500.500000</td>\n",
       "      <td>506.640000</td>\n",
       "      <td>33972.936000</td>\n",
       "    </tr>\n",
       "    <tr>\n",
       "      <th>std</th>\n",
       "      <td>288.819436</td>\n",
       "      <td>277.115502</td>\n",
       "      <td>14451.609047</td>\n",
       "    </tr>\n",
       "    <tr>\n",
       "      <th>min</th>\n",
       "      <td>1.000000</td>\n",
       "      <td>1.000000</td>\n",
       "      <td>10043.000000</td>\n",
       "    </tr>\n",
       "    <tr>\n",
       "      <th>25%</th>\n",
       "      <td>250.750000</td>\n",
       "      <td>275.250000</td>\n",
       "      <td>21329.250000</td>\n",
       "    </tr>\n",
       "    <tr>\n",
       "      <th>50%</th>\n",
       "      <td>500.500000</td>\n",
       "      <td>515.000000</td>\n",
       "      <td>33697.500000</td>\n",
       "    </tr>\n",
       "    <tr>\n",
       "      <th>75%</th>\n",
       "      <td>750.250000</td>\n",
       "      <td>737.250000</td>\n",
       "      <td>46249.000000</td>\n",
       "    </tr>\n",
       "    <tr>\n",
       "      <th>max</th>\n",
       "      <td>1000.000000</td>\n",
       "      <td>1000.000000</td>\n",
       "      <td>59910.000000</td>\n",
       "    </tr>\n",
       "  </tbody>\n",
       "</table>\n",
       "</div>"
      ],
      "text/plain": [
       "          order_id  customer_id       payment\n",
       "count  1000.000000  1000.000000   1000.000000\n",
       "mean    500.500000   506.640000  33972.936000\n",
       "std     288.819436   277.115502  14451.609047\n",
       "min       1.000000     1.000000  10043.000000\n",
       "25%     250.750000   275.250000  21329.250000\n",
       "50%     500.500000   515.000000  33697.500000\n",
       "75%     750.250000   737.250000  46249.000000\n",
       "max    1000.000000  1000.000000  59910.000000"
      ]
     },
     "execution_count": 16,
     "metadata": {},
     "output_type": "execute_result"
    }
   ],
   "source": [
    "print(\"Jumlah Duplikat: \", orders_df.duplicated().sum())\n",
    "orders_df.describe()"
   ]
  },
  {
   "cell_type": "markdown",
   "id": "fe75b5ac",
   "metadata": {},
   "source": [
    "Jika diperhatikan, tidak ada keanehan pada hasil tersebut. Ini menunjukkan tidak terdapat duplikasi dan keanehan nilai pada orders_df. "
   ]
  },
  {
   "cell_type": "markdown",
   "id": "62cbfb83",
   "metadata": {},
   "source": [
    "## Menilai data product_df"
   ]
  },
  {
   "cell_type": "markdown",
   "id": "53a97054",
   "metadata": {},
   "source": [
    "Selanjutnya, kita akan menilai data pada product_df. Pertama, gunakan method info() untuk memastikan tipe data tiap kolom dalam product_df telah sesuai."
   ]
  },
  {
   "cell_type": "code",
   "execution_count": 17,
   "id": "90bd06f5",
   "metadata": {},
   "outputs": [
    {
     "name": "stdout",
     "output_type": "stream",
     "text": [
      "<class 'pandas.core.frame.DataFrame'>\n",
      "RangeIndex: 1266 entries, 0 to 1265\n",
      "Data columns (total 8 columns):\n",
      " #   Column        Non-Null Count  Dtype \n",
      "---  ------        --------------  ----- \n",
      " 0   product_id    1266 non-null   int64 \n",
      " 1   product_type  1266 non-null   object\n",
      " 2   product_name  1266 non-null   object\n",
      " 3   size          1266 non-null   object\n",
      " 4   colour        1266 non-null   object\n",
      " 5   price         1266 non-null   int64 \n",
      " 6   quantity      1266 non-null   int64 \n",
      " 7   description   1266 non-null   object\n",
      "dtypes: int64(3), object(5)\n",
      "memory usage: 79.2+ KB\n"
     ]
    }
   ],
   "source": [
    "product_df.info()"
   ]
  },
  {
   "cell_type": "markdown",
   "id": "09d4f6c2",
   "metadata": {},
   "source": [
    "Berdasarkan hasil tersebut, dapat disimpulkan bahwa tidak terdapat masalah pada tipe data tiap kolom dalam product_df.  Selain itu, jumlah datanya juga telah lengkap sehingga tidak ada missing value di dalamnya.\n",
    "\n",
    "Hal berikutnya yang harus diperiksa ialah duplikasi dan ringkasan parameter statistik dari product_df. Berikut merupakan kode untuk melakukannya."
   ]
  },
  {
   "cell_type": "code",
   "execution_count": 18,
   "id": "d94cffa1",
   "metadata": {},
   "outputs": [
    {
     "name": "stdout",
     "output_type": "stream",
     "text": [
      "Jumlah Duplikat:  6\n"
     ]
    },
    {
     "data": {
      "text/html": [
       "<div>\n",
       "<style scoped>\n",
       "    .dataframe tbody tr th:only-of-type {\n",
       "        vertical-align: middle;\n",
       "    }\n",
       "\n",
       "    .dataframe tbody tr th {\n",
       "        vertical-align: top;\n",
       "    }\n",
       "\n",
       "    .dataframe thead th {\n",
       "        text-align: right;\n",
       "    }\n",
       "</style>\n",
       "<table border=\"1\" class=\"dataframe\">\n",
       "  <thead>\n",
       "    <tr style=\"text-align: right;\">\n",
       "      <th></th>\n",
       "      <th>product_id</th>\n",
       "      <th>price</th>\n",
       "      <th>quantity</th>\n",
       "    </tr>\n",
       "  </thead>\n",
       "  <tbody>\n",
       "    <tr>\n",
       "      <th>count</th>\n",
       "      <td>1266.000000</td>\n",
       "      <td>1266.000000</td>\n",
       "      <td>1266.000000</td>\n",
       "    </tr>\n",
       "    <tr>\n",
       "      <th>mean</th>\n",
       "      <td>627.926540</td>\n",
       "      <td>105.812006</td>\n",
       "      <td>60.138231</td>\n",
       "    </tr>\n",
       "    <tr>\n",
       "      <th>std</th>\n",
       "      <td>363.971586</td>\n",
       "      <td>9.715611</td>\n",
       "      <td>11.682791</td>\n",
       "    </tr>\n",
       "    <tr>\n",
       "      <th>min</th>\n",
       "      <td>0.000000</td>\n",
       "      <td>90.000000</td>\n",
       "      <td>40.000000</td>\n",
       "    </tr>\n",
       "    <tr>\n",
       "      <th>25%</th>\n",
       "      <td>313.250000</td>\n",
       "      <td>95.250000</td>\n",
       "      <td>50.000000</td>\n",
       "    </tr>\n",
       "    <tr>\n",
       "      <th>50%</th>\n",
       "      <td>626.500000</td>\n",
       "      <td>109.000000</td>\n",
       "      <td>60.000000</td>\n",
       "    </tr>\n",
       "    <tr>\n",
       "      <th>75%</th>\n",
       "      <td>942.750000</td>\n",
       "      <td>114.000000</td>\n",
       "      <td>70.000000</td>\n",
       "    </tr>\n",
       "    <tr>\n",
       "      <th>max</th>\n",
       "      <td>1259.000000</td>\n",
       "      <td>119.000000</td>\n",
       "      <td>80.000000</td>\n",
       "    </tr>\n",
       "  </tbody>\n",
       "</table>\n",
       "</div>"
      ],
      "text/plain": [
       "        product_id        price     quantity\n",
       "count  1266.000000  1266.000000  1266.000000\n",
       "mean    627.926540   105.812006    60.138231\n",
       "std     363.971586     9.715611    11.682791\n",
       "min       0.000000    90.000000    40.000000\n",
       "25%     313.250000    95.250000    50.000000\n",
       "50%     626.500000   109.000000    60.000000\n",
       "75%     942.750000   114.000000    70.000000\n",
       "max    1259.000000   119.000000    80.000000"
      ]
     },
     "execution_count": 18,
     "metadata": {},
     "output_type": "execute_result"
    }
   ],
   "source": [
    "print(\"Jumlah Duplikat: \", product_df.duplicated().sum())\n",
    "\n",
    "product_df.describe()"
   ]
  },
  {
   "cell_type": "markdown",
   "id": "eceb6e0f",
   "metadata": {},
   "source": [
    "Berdasarkan gambar di atas, dapat dilihat bahwa terdapat 6 data yang terduplikasi pada product_df. Pada tahap cleaning data, kita akan menghapus duplikasi tersebut."
   ]
  },
  {
   "cell_type": "markdown",
   "id": "f070b550",
   "metadata": {},
   "source": [
    "## Menilai data sales_df"
   ]
  },
  {
   "cell_type": "markdown",
   "id": "d8c57ca5",
   "metadata": {},
   "source": [
    "Data terakhir yang harus kita nilai ialah sales_df. Sebagai permulaan, gunakan method info() untuk memeriksa tipe data dan jumlah data yang ada di dalam sales_df."
   ]
  },
  {
   "cell_type": "code",
   "execution_count": 19,
   "id": "ed8ce697",
   "metadata": {},
   "outputs": [
    {
     "name": "stdout",
     "output_type": "stream",
     "text": [
      "<class 'pandas.core.frame.DataFrame'>\n",
      "RangeIndex: 5000 entries, 0 to 4999\n",
      "Data columns (total 6 columns):\n",
      " #   Column          Non-Null Count  Dtype  \n",
      "---  ------          --------------  -----  \n",
      " 0   sales_id        5000 non-null   int64  \n",
      " 1   order_id        5000 non-null   int64  \n",
      " 2   product_id      5000 non-null   int64  \n",
      " 3   price_per_unit  5000 non-null   int64  \n",
      " 4   quantity        5000 non-null   int64  \n",
      " 5   total_price     4981 non-null   float64\n",
      "dtypes: float64(1), int64(5)\n",
      "memory usage: 234.5 KB\n"
     ]
    }
   ],
   "source": [
    "sales_df.info()"
   ]
  },
  {
   "cell_type": "markdown",
   "id": "f2bfb7a2",
   "metadata": {},
   "source": [
    "Berdasarkan hasil di atas, tidak ada masalah pada tipe data tiap kolom dalam sales_df. Namun, terdapat keanehan pada jumlah data pada kolom total_price. Hal ini menunjukkan adanya missing value pada kolom tersebut. Untuk memastikannya, kita bisa menjalankan kode berikut."
   ]
  },
  {
   "cell_type": "code",
   "execution_count": 20,
   "id": "0ea6a7df",
   "metadata": {},
   "outputs": [
    {
     "data": {
      "text/plain": [
       "sales_id           0\n",
       "order_id           0\n",
       "product_id         0\n",
       "price_per_unit     0\n",
       "quantity           0\n",
       "total_price       19\n",
       "dtype: int64"
      ]
     },
     "execution_count": 20,
     "metadata": {},
     "output_type": "execute_result"
    }
   ],
   "source": [
    "sales_df.isna().sum()"
   ]
  },
  {
   "cell_type": "markdown",
   "id": "4eca8390",
   "metadata": {},
   "source": [
    "Berdasarkan hasil di atas, dapat disimpulkan bahwa terdapat 19 missing value pada kolom total_price. Hal ini akan kita bersihkan pada tahap cleaning data.\n",
    "\n",
    "Tahap selanjutnya ialah memeriksa duplikasi dan ringkasan parameter statistik dari sales_df. Berikut merupakan contoh kode untuk melakukannya."
   ]
  },
  {
   "cell_type": "code",
   "execution_count": 22,
   "id": "81c4cff4",
   "metadata": {},
   "outputs": [
    {
     "name": "stdout",
     "output_type": "stream",
     "text": [
      "Jumlah Duplikasi:  0\n"
     ]
    },
    {
     "data": {
      "text/html": [
       "<div>\n",
       "<style scoped>\n",
       "    .dataframe tbody tr th:only-of-type {\n",
       "        vertical-align: middle;\n",
       "    }\n",
       "\n",
       "    .dataframe tbody tr th {\n",
       "        vertical-align: top;\n",
       "    }\n",
       "\n",
       "    .dataframe thead th {\n",
       "        text-align: right;\n",
       "    }\n",
       "</style>\n",
       "<table border=\"1\" class=\"dataframe\">\n",
       "  <thead>\n",
       "    <tr style=\"text-align: right;\">\n",
       "      <th></th>\n",
       "      <th>sales_id</th>\n",
       "      <th>order_id</th>\n",
       "      <th>product_id</th>\n",
       "      <th>price_per_unit</th>\n",
       "      <th>quantity</th>\n",
       "      <th>total_price</th>\n",
       "    </tr>\n",
       "  </thead>\n",
       "  <tbody>\n",
       "    <tr>\n",
       "      <th>count</th>\n",
       "      <td>5000.000000</td>\n",
       "      <td>5000.000000</td>\n",
       "      <td>5000.000000</td>\n",
       "      <td>5000.000000</td>\n",
       "      <td>5000.00000</td>\n",
       "      <td>4981.000000</td>\n",
       "    </tr>\n",
       "    <tr>\n",
       "      <th>mean</th>\n",
       "      <td>2499.500000</td>\n",
       "      <td>503.038200</td>\n",
       "      <td>634.053200</td>\n",
       "      <td>103.501600</td>\n",
       "      <td>1.99240</td>\n",
       "      <td>206.307368</td>\n",
       "    </tr>\n",
       "    <tr>\n",
       "      <th>std</th>\n",
       "      <td>1443.520003</td>\n",
       "      <td>285.964418</td>\n",
       "      <td>363.255794</td>\n",
       "      <td>9.195004</td>\n",
       "      <td>0.80751</td>\n",
       "      <td>86.352449</td>\n",
       "    </tr>\n",
       "    <tr>\n",
       "      <th>min</th>\n",
       "      <td>0.000000</td>\n",
       "      <td>1.000000</td>\n",
       "      <td>1.000000</td>\n",
       "      <td>90.000000</td>\n",
       "      <td>1.00000</td>\n",
       "      <td>90.000000</td>\n",
       "    </tr>\n",
       "    <tr>\n",
       "      <th>25%</th>\n",
       "      <td>1249.750000</td>\n",
       "      <td>258.000000</td>\n",
       "      <td>323.000000</td>\n",
       "      <td>95.000000</td>\n",
       "      <td>1.00000</td>\n",
       "      <td>112.000000</td>\n",
       "    </tr>\n",
       "    <tr>\n",
       "      <th>50%</th>\n",
       "      <td>2499.500000</td>\n",
       "      <td>504.500000</td>\n",
       "      <td>635.000000</td>\n",
       "      <td>102.000000</td>\n",
       "      <td>2.00000</td>\n",
       "      <td>204.000000</td>\n",
       "    </tr>\n",
       "    <tr>\n",
       "      <th>75%</th>\n",
       "      <td>3749.250000</td>\n",
       "      <td>749.000000</td>\n",
       "      <td>951.000000</td>\n",
       "      <td>112.000000</td>\n",
       "      <td>3.00000</td>\n",
       "      <td>285.000000</td>\n",
       "    </tr>\n",
       "    <tr>\n",
       "      <th>max</th>\n",
       "      <td>4999.000000</td>\n",
       "      <td>999.000000</td>\n",
       "      <td>1259.000000</td>\n",
       "      <td>119.000000</td>\n",
       "      <td>3.00000</td>\n",
       "      <td>357.000000</td>\n",
       "    </tr>\n",
       "  </tbody>\n",
       "</table>\n",
       "</div>"
      ],
      "text/plain": [
       "          sales_id     order_id   product_id  price_per_unit    quantity  \\\n",
       "count  5000.000000  5000.000000  5000.000000     5000.000000  5000.00000   \n",
       "mean   2499.500000   503.038200   634.053200      103.501600     1.99240   \n",
       "std    1443.520003   285.964418   363.255794        9.195004     0.80751   \n",
       "min       0.000000     1.000000     1.000000       90.000000     1.00000   \n",
       "25%    1249.750000   258.000000   323.000000       95.000000     1.00000   \n",
       "50%    2499.500000   504.500000   635.000000      102.000000     2.00000   \n",
       "75%    3749.250000   749.000000   951.000000      112.000000     3.00000   \n",
       "max    4999.000000   999.000000  1259.000000      119.000000     3.00000   \n",
       "\n",
       "       total_price  \n",
       "count  4981.000000  \n",
       "mean    206.307368  \n",
       "std      86.352449  \n",
       "min      90.000000  \n",
       "25%     112.000000  \n",
       "50%     204.000000  \n",
       "75%     285.000000  \n",
       "max     357.000000  "
      ]
     },
     "execution_count": 22,
     "metadata": {},
     "output_type": "execute_result"
    }
   ],
   "source": [
    "print(\"Jumlah Duplikasi: \", sales_df.duplicated().sum())\n",
    "\n",
    "sales_df.describe()"
   ]
  },
  {
   "cell_type": "markdown",
   "id": "e10edf13",
   "metadata": {},
   "source": [
    "Hasil di atas menunjukkan bahwa tidak ada duplikasi pada slaes_df. Selain itu, ia juga menunjukkan tidak terdapat keanehan dalam ringkasan parameter statistik dari sales_df.\n",
    "\n",
    "Oke, sampai tahap ini, kita telah berhasil mengidentifikasi berbagai masalah pada data yang telah kita kumpulkan. Berikut merupakan rangkumannya."
   ]
  },
  {
   "cell_type": "markdown",
   "id": "c5e0021b",
   "metadata": {},
   "source": [
    "# CLEANING DATA"
   ]
  },
  {
   "cell_type": "markdown",
   "id": "15b23aac",
   "metadata": {},
   "source": [
    "Pada tahap ini, kita akan membersihkan berbagai masalah yang telah teridentifikasi dalam proses assessing data."
   ]
  },
  {
   "cell_type": "markdown",
   "id": "b8f05b36",
   "metadata": {},
   "source": [
    "## Menghilangkan duplicated data"
   ]
  },
  {
   "cell_type": "markdown",
   "id": "57812f69",
   "metadata": {},
   "source": [
    "Masalah pertama yang akan kita tangani ialah duplicate data. Seperti yang telah kita pelajari sebelumnya, ketika menemukan duplikasi pada data, kita harus menghilangkan atau menghapus duplikasi tersebut. Nah, untuk melakukan hal ini, kita dapat memanfaatkan method drop_duplicates(). Berikut merupakan kode untuk menghapus duplikasi pada customer_df."
   ]
  },
  {
   "cell_type": "code",
   "execution_count": 24,
   "id": "5b4e01fc",
   "metadata": {},
   "outputs": [],
   "source": [
    "customers_df.drop_duplicates(inplace=True)"
   ]
  },
  {
   "cell_type": "code",
   "execution_count": 27,
   "id": "882b90cf",
   "metadata": {},
   "outputs": [
    {
     "name": "stdout",
     "output_type": "stream",
     "text": [
      "Jumlah Duplikasi:  0\n"
     ]
    }
   ],
   "source": [
    "print(\"Jumlah Duplikasi: \", customers_df.duplicated().sum())"
   ]
  },
  {
   "cell_type": "markdown",
   "id": "59c32fde",
   "metadata": {},
   "source": [
    "Jika proses penghapusan duplikasi berjalan lancar, kode di atas akan menghasilkan keluaran yang menunjukkan tidak adanya duplikasi pada customers_df."
   ]
  },
  {
   "cell_type": "markdown",
   "id": "32469d4a",
   "metadata": {},
   "source": [
    "## Menangani missing value"
   ]
  },
  {
   "cell_type": "markdown",
   "id": "7682c2fb",
   "metadata": {},
   "source": [
    "Masalah berikutnya yang harus kita tangani ialah missing value pada kolom gender. Nah, secara umum terdapat tiga metode untuk mengatasi missing value yaitu dropping, imputation, dan interpolation. Untuk menentukan metode mana yang akan digunakan, kita perlu melihat data yang mengandung missing value tersebut menggunakan teknik filtering seperti berikut."
   ]
  },
  {
   "cell_type": "code",
   "execution_count": 28,
   "id": "049fd232",
   "metadata": {},
   "outputs": [
    {
     "data": {
      "text/html": [
       "<div>\n",
       "<style scoped>\n",
       "    .dataframe tbody tr th:only-of-type {\n",
       "        vertical-align: middle;\n",
       "    }\n",
       "\n",
       "    .dataframe tbody tr th {\n",
       "        vertical-align: top;\n",
       "    }\n",
       "\n",
       "    .dataframe thead th {\n",
       "        text-align: right;\n",
       "    }\n",
       "</style>\n",
       "<table border=\"1\" class=\"dataframe\">\n",
       "  <thead>\n",
       "    <tr style=\"text-align: right;\">\n",
       "      <th></th>\n",
       "      <th>customer_id</th>\n",
       "      <th>customer_name</th>\n",
       "      <th>gender</th>\n",
       "      <th>age</th>\n",
       "      <th>home_address</th>\n",
       "      <th>zip_code</th>\n",
       "      <th>city</th>\n",
       "      <th>state</th>\n",
       "      <th>country</th>\n",
       "    </tr>\n",
       "  </thead>\n",
       "  <tbody>\n",
       "    <tr>\n",
       "      <th>38</th>\n",
       "      <td>39</td>\n",
       "      <td>fulan 39</td>\n",
       "      <td>NaN</td>\n",
       "      <td>80</td>\n",
       "      <td>7440 Cameron Estate DrSuite 628</td>\n",
       "      <td>4622</td>\n",
       "      <td>North Victoriachester</td>\n",
       "      <td>Northern Territory</td>\n",
       "      <td>Australia</td>\n",
       "    </tr>\n",
       "    <tr>\n",
       "      <th>167</th>\n",
       "      <td>168</td>\n",
       "      <td>fulan 168</td>\n",
       "      <td>NaN</td>\n",
       "      <td>27</td>\n",
       "      <td>2781 Berge MallSuite 452</td>\n",
       "      <td>1975</td>\n",
       "      <td>North Leoburgh</td>\n",
       "      <td>Western Australia</td>\n",
       "      <td>Australia</td>\n",
       "    </tr>\n",
       "    <tr>\n",
       "      <th>322</th>\n",
       "      <td>322</td>\n",
       "      <td>fulan 322</td>\n",
       "      <td>NaN</td>\n",
       "      <td>30</td>\n",
       "      <td>593 Becker CircleApt. 333</td>\n",
       "      <td>1640</td>\n",
       "      <td>Jacobiview</td>\n",
       "      <td>Western Australia</td>\n",
       "      <td>Australia</td>\n",
       "    </tr>\n",
       "    <tr>\n",
       "      <th>393</th>\n",
       "      <td>393</td>\n",
       "      <td>fulan 393</td>\n",
       "      <td>NaN</td>\n",
       "      <td>34</td>\n",
       "      <td>5158 Levi HillSuite 531</td>\n",
       "      <td>1474</td>\n",
       "      <td>Johnsburgh</td>\n",
       "      <td>Queensland</td>\n",
       "      <td>Australia</td>\n",
       "    </tr>\n",
       "    <tr>\n",
       "      <th>442</th>\n",
       "      <td>442</td>\n",
       "      <td>fulan 442</td>\n",
       "      <td>NaN</td>\n",
       "      <td>26</td>\n",
       "      <td>5157 Feil RoadApt. 633</td>\n",
       "      <td>7249</td>\n",
       "      <td>Port Chloe</td>\n",
       "      <td>New South Wales</td>\n",
       "      <td>Australia</td>\n",
       "    </tr>\n",
       "    <tr>\n",
       "      <th>722</th>\n",
       "      <td>720</td>\n",
       "      <td>fulan 720</td>\n",
       "      <td>NaN</td>\n",
       "      <td>40</td>\n",
       "      <td>31 Jordan ParadeApt. 400</td>\n",
       "      <td>1380</td>\n",
       "      <td>West Henry</td>\n",
       "      <td>South Australia</td>\n",
       "      <td>Australia</td>\n",
       "    </tr>\n",
       "    <tr>\n",
       "      <th>745</th>\n",
       "      <td>743</td>\n",
       "      <td>fulan 743</td>\n",
       "      <td>NaN</td>\n",
       "      <td>57</td>\n",
       "      <td>09 Christopher StreetSuite 967</td>\n",
       "      <td>6226</td>\n",
       "      <td>Lake Lukemouth</td>\n",
       "      <td>Western Australia</td>\n",
       "      <td>Australia</td>\n",
       "    </tr>\n",
       "    <tr>\n",
       "      <th>773</th>\n",
       "      <td>771</td>\n",
       "      <td>fulan 771</td>\n",
       "      <td>NaN</td>\n",
       "      <td>74</td>\n",
       "      <td>7367 Wright JunctionApt. 773</td>\n",
       "      <td>8882</td>\n",
       "      <td>Kuhntown</td>\n",
       "      <td>Victoria</td>\n",
       "      <td>Australia</td>\n",
       "    </tr>\n",
       "    <tr>\n",
       "      <th>798</th>\n",
       "      <td>795</td>\n",
       "      <td>fulan 795</td>\n",
       "      <td>NaN</td>\n",
       "      <td>49</td>\n",
       "      <td>487 Summer MewsApt. 874</td>\n",
       "      <td>1712</td>\n",
       "      <td>East Hayden</td>\n",
       "      <td>Australian Capital Territory</td>\n",
       "      <td>Australia</td>\n",
       "    </tr>\n",
       "    <tr>\n",
       "      <th>801</th>\n",
       "      <td>798</td>\n",
       "      <td>fulan 798</td>\n",
       "      <td>NaN</td>\n",
       "      <td>56</td>\n",
       "      <td>27 Aiden KnollApt. 875</td>\n",
       "      <td>6531</td>\n",
       "      <td>Port Sam</td>\n",
       "      <td>Australian Capital Territory</td>\n",
       "      <td>Australia</td>\n",
       "    </tr>\n",
       "    <tr>\n",
       "      <th>825</th>\n",
       "      <td>822</td>\n",
       "      <td>fulan 822</td>\n",
       "      <td>NaN</td>\n",
       "      <td>59</td>\n",
       "      <td>41 Jenkins KnollSuite 438</td>\n",
       "      <td>2588</td>\n",
       "      <td>Lake Andrewport</td>\n",
       "      <td>South Australia</td>\n",
       "      <td>Australia</td>\n",
       "    </tr>\n",
       "    <tr>\n",
       "      <th>859</th>\n",
       "      <td>855</td>\n",
       "      <td>fulan 855</td>\n",
       "      <td>NaN</td>\n",
       "      <td>55</td>\n",
       "      <td>603 O'keefe KnollSuite 782</td>\n",
       "      <td>8822</td>\n",
       "      <td>Port Dylanmouth</td>\n",
       "      <td>Tasmania</td>\n",
       "      <td>Australia</td>\n",
       "    </tr>\n",
       "    <tr>\n",
       "      <th>863</th>\n",
       "      <td>859</td>\n",
       "      <td>fulan 859</td>\n",
       "      <td>NaN</td>\n",
       "      <td>38</td>\n",
       "      <td>32 Isla GroveApt. 078</td>\n",
       "      <td>7711</td>\n",
       "      <td>Rosechester</td>\n",
       "      <td>New South Wales</td>\n",
       "      <td>Australia</td>\n",
       "    </tr>\n",
       "    <tr>\n",
       "      <th>914</th>\n",
       "      <td>909</td>\n",
       "      <td>fulan 909</td>\n",
       "      <td>NaN</td>\n",
       "      <td>62</td>\n",
       "      <td>976 Murray Station StApt. 036</td>\n",
       "      <td>3227</td>\n",
       "      <td>Langfort</td>\n",
       "      <td>Tasmania</td>\n",
       "      <td>Australia</td>\n",
       "    </tr>\n",
       "    <tr>\n",
       "      <th>934</th>\n",
       "      <td>929</td>\n",
       "      <td>fulan 929</td>\n",
       "      <td>NaN</td>\n",
       "      <td>68</td>\n",
       "      <td>394 Lily HillSuite 153</td>\n",
       "      <td>2353</td>\n",
       "      <td>Beahanfurt</td>\n",
       "      <td>Northern Territory</td>\n",
       "      <td>Australia</td>\n",
       "    </tr>\n",
       "    <tr>\n",
       "      <th>948</th>\n",
       "      <td>943</td>\n",
       "      <td>fulan 943</td>\n",
       "      <td>NaN</td>\n",
       "      <td>64</td>\n",
       "      <td>3117 Heller PlaceSuite 149</td>\n",
       "      <td>822</td>\n",
       "      <td>North Elijah</td>\n",
       "      <td>South Australia</td>\n",
       "      <td>Australia</td>\n",
       "    </tr>\n",
       "    <tr>\n",
       "      <th>952</th>\n",
       "      <td>946</td>\n",
       "      <td>fulan 946</td>\n",
       "      <td>NaN</td>\n",
       "      <td>24</td>\n",
       "      <td>8227 Nicholas HillSuite 150</td>\n",
       "      <td>115</td>\n",
       "      <td>South Jasper</td>\n",
       "      <td>Queensland</td>\n",
       "      <td>Australia</td>\n",
       "    </tr>\n",
       "    <tr>\n",
       "      <th>994</th>\n",
       "      <td>988</td>\n",
       "      <td>fulan 988</td>\n",
       "      <td>NaN</td>\n",
       "      <td>35</td>\n",
       "      <td>1130 Turner Estate DrSuite 925</td>\n",
       "      <td>9386</td>\n",
       "      <td>New Harry</td>\n",
       "      <td>Western Australia</td>\n",
       "      <td>Australia</td>\n",
       "    </tr>\n",
       "  </tbody>\n",
       "</table>\n",
       "</div>"
      ],
      "text/plain": [
       "     customer_id customer_name gender  age                     home_address  \\\n",
       "38            39      fulan 39    NaN   80  7440 Cameron Estate DrSuite 628   \n",
       "167          168     fulan 168    NaN   27         2781 Berge MallSuite 452   \n",
       "322          322     fulan 322    NaN   30        593 Becker CircleApt. 333   \n",
       "393          393     fulan 393    NaN   34          5158 Levi HillSuite 531   \n",
       "442          442     fulan 442    NaN   26           5157 Feil RoadApt. 633   \n",
       "722          720     fulan 720    NaN   40         31 Jordan ParadeApt. 400   \n",
       "745          743     fulan 743    NaN   57   09 Christopher StreetSuite 967   \n",
       "773          771     fulan 771    NaN   74     7367 Wright JunctionApt. 773   \n",
       "798          795     fulan 795    NaN   49          487 Summer MewsApt. 874   \n",
       "801          798     fulan 798    NaN   56           27 Aiden KnollApt. 875   \n",
       "825          822     fulan 822    NaN   59        41 Jenkins KnollSuite 438   \n",
       "859          855     fulan 855    NaN   55       603 O'keefe KnollSuite 782   \n",
       "863          859     fulan 859    NaN   38            32 Isla GroveApt. 078   \n",
       "914          909     fulan 909    NaN   62    976 Murray Station StApt. 036   \n",
       "934          929     fulan 929    NaN   68           394 Lily HillSuite 153   \n",
       "948          943     fulan 943    NaN   64       3117 Heller PlaceSuite 149   \n",
       "952          946     fulan 946    NaN   24      8227 Nicholas HillSuite 150   \n",
       "994          988     fulan 988    NaN   35   1130 Turner Estate DrSuite 925   \n",
       "\n",
       "     zip_code                   city                         state    country  \n",
       "38       4622  North Victoriachester            Northern Territory  Australia  \n",
       "167      1975         North Leoburgh             Western Australia  Australia  \n",
       "322      1640             Jacobiview             Western Australia  Australia  \n",
       "393      1474             Johnsburgh                    Queensland  Australia  \n",
       "442      7249             Port Chloe               New South Wales  Australia  \n",
       "722      1380             West Henry               South Australia  Australia  \n",
       "745      6226         Lake Lukemouth             Western Australia  Australia  \n",
       "773      8882               Kuhntown                      Victoria  Australia  \n",
       "798      1712            East Hayden  Australian Capital Territory  Australia  \n",
       "801      6531               Port Sam  Australian Capital Territory  Australia  \n",
       "825      2588        Lake Andrewport               South Australia  Australia  \n",
       "859      8822        Port Dylanmouth                      Tasmania  Australia  \n",
       "863      7711            Rosechester               New South Wales  Australia  \n",
       "914      3227               Langfort                      Tasmania  Australia  \n",
       "934      2353             Beahanfurt            Northern Territory  Australia  \n",
       "948       822           North Elijah               South Australia  Australia  \n",
       "952       115           South Jasper                    Queensland  Australia  \n",
       "994      9386              New Harry             Western Australia  Australia  "
      ]
     },
     "execution_count": 28,
     "metadata": {},
     "output_type": "execute_result"
    }
   ],
   "source": [
    "customers_df[customers_df.gender.isna()]"
   ]
  },
  {
   "cell_type": "markdown",
   "id": "e4c500c3",
   "metadata": {},
   "source": [
    "Kode di atas hanya akan menampilkan baris data yang memenuhi kondisi customers_df.gender.isna() atau dengan kata lain ia akan menampilkan baris data yang mengandung missing value pada kolom gender. Berikut merupakan tampilan baris data tersebut.\n",
    "\n",
    "Berdasarkan gambar di atas, dapat dilihat bahwa baris data tersebut masih mengandung banyak informasi penting sehingga sayang jika langsung dibuang. Oleh karena itu, pada kasus ini, kita akan menggunakan metode imputation untuk menangani missing value.\n",
    "\n",
    "Pada metode imputation, kita akan menggunakan nilai tertentu untuk mengganti missing value. Musabab kolom gender merupakan kolom kategorik, kita akan menggunakan nilai yang dominan sebagai pengganti missing value tersebut. Gunakanlah method value_counts()untuk mengidentifikasi nilai yang dominan."
   ]
  },
  {
   "cell_type": "code",
   "execution_count": 49,
   "id": "281f842f",
   "metadata": {},
   "outputs": [
    {
     "data": {
      "text/plain": [
       "Prefer not to say    743\n",
       "Male                 143\n",
       "Female               115\n",
       "Name: gender, dtype: int64"
      ]
     },
     "execution_count": 49,
     "metadata": {},
     "output_type": "execute_result"
    }
   ],
   "source": [
    "customers_df.gender.value_counts()"
   ]
  },
  {
   "cell_type": "markdown",
   "id": "0b9c3c44",
   "metadata": {},
   "source": [
    "Berdasarkan hasil di atas, dapat diketahui bahwa nilai yang paling dominan dalam kolom gender ialah “Prefer not to say”. Nilai inilah yang selanjutnya akan kita gunakan sebagai pengganti missing value. Proses penggantian ini dapat dilakukan menggunakan method fillna()seperti contoh berikut."
   ]
  },
  {
   "cell_type": "code",
   "execution_count": 30,
   "id": "7cce7fd7",
   "metadata": {},
   "outputs": [],
   "source": [
    "customers_df.fillna(value=\"Prefer not to say\", inplace=True)"
   ]
  },
  {
   "cell_type": "markdown",
   "id": "26642779",
   "metadata": {},
   "source": [
    "Untuk memastikan proses di atas berjalan dengan semestinya, kita bisa menjalankan kembali kode untuk mengidentifikasi missing value seperti berikut."
   ]
  },
  {
   "cell_type": "code",
   "execution_count": 31,
   "id": "bc195d84",
   "metadata": {},
   "outputs": [
    {
     "data": {
      "text/plain": [
       "customer_id      0\n",
       "customer_name    0\n",
       "gender           0\n",
       "age              0\n",
       "home_address     0\n",
       "zip_code         0\n",
       "city             0\n",
       "state            0\n",
       "country          0\n",
       "dtype: int64"
      ]
     },
     "execution_count": 31,
     "metadata": {},
     "output_type": "execute_result"
    }
   ],
   "source": [
    "customers_df.isna().sum()"
   ]
  },
  {
   "cell_type": "markdown",
   "id": "c8ed2c02",
   "metadata": {},
   "source": [
    "Jika proses pembersihan missing value tersebut berhasil, Anda akan memperoleh hasil seperti diatas."
   ]
  },
  {
   "cell_type": "markdown",
   "id": "0a0d3968",
   "metadata": {},
   "source": [
    "## Menangani inaccurate value"
   ]
  },
  {
   "cell_type": "markdown",
   "id": "3bbc1074",
   "metadata": {},
   "source": [
    "Oke, sekarang kita akan mengatasi masalah inaccurate value pada kolom age. Sebagai awal, kita perlu melihat data baris data yang mengandung inaccurate value tersebut (baris dengan nilai age maksimum). Hal ini dilakukan menggunakan teknik filter seperti contoh kode berikut."
   ]
  },
  {
   "cell_type": "code",
   "execution_count": 32,
   "id": "fdb0c3bf",
   "metadata": {},
   "outputs": [
    {
     "data": {
      "text/html": [
       "<div>\n",
       "<style scoped>\n",
       "    .dataframe tbody tr th:only-of-type {\n",
       "        vertical-align: middle;\n",
       "    }\n",
       "\n",
       "    .dataframe tbody tr th {\n",
       "        vertical-align: top;\n",
       "    }\n",
       "\n",
       "    .dataframe thead th {\n",
       "        text-align: right;\n",
       "    }\n",
       "</style>\n",
       "<table border=\"1\" class=\"dataframe\">\n",
       "  <thead>\n",
       "    <tr style=\"text-align: right;\">\n",
       "      <th></th>\n",
       "      <th>customer_id</th>\n",
       "      <th>customer_name</th>\n",
       "      <th>gender</th>\n",
       "      <th>age</th>\n",
       "      <th>home_address</th>\n",
       "      <th>zip_code</th>\n",
       "      <th>city</th>\n",
       "      <th>state</th>\n",
       "      <th>country</th>\n",
       "    </tr>\n",
       "  </thead>\n",
       "  <tbody>\n",
       "    <tr>\n",
       "      <th>967</th>\n",
       "      <td>961</td>\n",
       "      <td>fulan 961</td>\n",
       "      <td>Prefer not to say</td>\n",
       "      <td>700</td>\n",
       "      <td>29 Farrell ParadeSuite 818</td>\n",
       "      <td>6528</td>\n",
       "      <td>New Joseph</td>\n",
       "      <td>South Australia</td>\n",
       "      <td>Australia</td>\n",
       "    </tr>\n",
       "  </tbody>\n",
       "</table>\n",
       "</div>"
      ],
      "text/plain": [
       "     customer_id customer_name             gender  age  \\\n",
       "967          961     fulan 961  Prefer not to say  700   \n",
       "\n",
       "                   home_address  zip_code        city            state  \\\n",
       "967  29 Farrell ParadeSuite 818      6528  New Joseph  South Australia   \n",
       "\n",
       "       country  \n",
       "967  Australia  "
      ]
     },
     "execution_count": 32,
     "metadata": {},
     "output_type": "execute_result"
    }
   ],
   "source": [
    "customers_df[customers_df.age == customers_df.age.max()]"
   ]
  },
  {
   "cell_type": "markdown",
   "id": "6291c16c",
   "metadata": {},
   "source": [
    "Kode di atas akan menampilkan baris data yang memiliki nilai age maksimum."
   ]
  },
  {
   "cell_type": "markdown",
   "id": "4a03bab3",
   "metadata": {},
   "source": [
    "Berdasarkan data tersebut, kita bisa berasumsi bahwa inaccurate value tersebut terjadi karena human error sehingga kelebihan memasukkan nilai nol. Oleh karena itu, gantilah dengan nilai 70. Proses ini dilakukan dengan memanfaatkan method replace()seperti contoh berikut."
   ]
  },
  {
   "cell_type": "code",
   "execution_count": 33,
   "id": "ce7d52fc",
   "metadata": {},
   "outputs": [
    {
     "data": {
      "text/html": [
       "<div>\n",
       "<style scoped>\n",
       "    .dataframe tbody tr th:only-of-type {\n",
       "        vertical-align: middle;\n",
       "    }\n",
       "\n",
       "    .dataframe tbody tr th {\n",
       "        vertical-align: top;\n",
       "    }\n",
       "\n",
       "    .dataframe thead th {\n",
       "        text-align: right;\n",
       "    }\n",
       "</style>\n",
       "<table border=\"1\" class=\"dataframe\">\n",
       "  <thead>\n",
       "    <tr style=\"text-align: right;\">\n",
       "      <th></th>\n",
       "      <th>customer_id</th>\n",
       "      <th>customer_name</th>\n",
       "      <th>gender</th>\n",
       "      <th>age</th>\n",
       "      <th>home_address</th>\n",
       "      <th>zip_code</th>\n",
       "      <th>city</th>\n",
       "      <th>state</th>\n",
       "      <th>country</th>\n",
       "    </tr>\n",
       "  </thead>\n",
       "  <tbody>\n",
       "    <tr>\n",
       "      <th>967</th>\n",
       "      <td>961</td>\n",
       "      <td>fulan 961</td>\n",
       "      <td>Prefer not to say</td>\n",
       "      <td>700</td>\n",
       "      <td>29 Farrell ParadeSuite 818</td>\n",
       "      <td>6528</td>\n",
       "      <td>New Joseph</td>\n",
       "      <td>South Australia</td>\n",
       "      <td>Australia</td>\n",
       "    </tr>\n",
       "  </tbody>\n",
       "</table>\n",
       "</div>"
      ],
      "text/plain": [
       "     customer_id customer_name             gender  age  \\\n",
       "967          961     fulan 961  Prefer not to say  700   \n",
       "\n",
       "                   home_address  zip_code        city            state  \\\n",
       "967  29 Farrell ParadeSuite 818      6528  New Joseph  South Australia   \n",
       "\n",
       "       country  \n",
       "967  Australia  "
      ]
     },
     "execution_count": 33,
     "metadata": {},
     "output_type": "execute_result"
    }
   ],
   "source": [
    "customers_df[customers_df.age == customers_df.age.max()]"
   ]
  },
  {
   "cell_type": "markdown",
   "id": "969db964",
   "metadata": {},
   "source": [
    "Penyebab kesalahan ini kemungkinan sama dengan sebelumnya, yaitu human error yang kelebihan memasukkan nilai nol. Untuk menangani hal ini, kita akan menggantinya dengan nilai 50."
   ]
  },
  {
   "cell_type": "code",
   "execution_count": 34,
   "id": "64d72552",
   "metadata": {},
   "outputs": [],
   "source": [
    "customers_df.age.replace(customers_df.age.max(), 50, inplace=True)"
   ]
  },
  {
   "cell_type": "code",
   "execution_count": 35,
   "id": "24ffb148",
   "metadata": {},
   "outputs": [
    {
     "data": {
      "text/html": [
       "<div>\n",
       "<style scoped>\n",
       "    .dataframe tbody tr th:only-of-type {\n",
       "        vertical-align: middle;\n",
       "    }\n",
       "\n",
       "    .dataframe tbody tr th {\n",
       "        vertical-align: top;\n",
       "    }\n",
       "\n",
       "    .dataframe thead th {\n",
       "        text-align: right;\n",
       "    }\n",
       "</style>\n",
       "<table border=\"1\" class=\"dataframe\">\n",
       "  <thead>\n",
       "    <tr style=\"text-align: right;\">\n",
       "      <th></th>\n",
       "      <th>customer_id</th>\n",
       "      <th>age</th>\n",
       "      <th>zip_code</th>\n",
       "    </tr>\n",
       "  </thead>\n",
       "  <tbody>\n",
       "    <tr>\n",
       "      <th>count</th>\n",
       "      <td>1001.000000</td>\n",
       "      <td>1001.000000</td>\n",
       "      <td>1001.000000</td>\n",
       "    </tr>\n",
       "    <tr>\n",
       "      <th>mean</th>\n",
       "      <td>500.942058</td>\n",
       "      <td>50.303696</td>\n",
       "      <td>5000.693307</td>\n",
       "    </tr>\n",
       "    <tr>\n",
       "      <th>std</th>\n",
       "      <td>289.013599</td>\n",
       "      <td>22.657398</td>\n",
       "      <td>2886.084454</td>\n",
       "    </tr>\n",
       "    <tr>\n",
       "      <th>min</th>\n",
       "      <td>1.000000</td>\n",
       "      <td>20.000000</td>\n",
       "      <td>2.000000</td>\n",
       "    </tr>\n",
       "    <tr>\n",
       "      <th>25%</th>\n",
       "      <td>251.000000</td>\n",
       "      <td>34.000000</td>\n",
       "      <td>2398.000000</td>\n",
       "    </tr>\n",
       "    <tr>\n",
       "      <th>50%</th>\n",
       "      <td>501.000000</td>\n",
       "      <td>50.000000</td>\n",
       "      <td>5079.000000</td>\n",
       "    </tr>\n",
       "    <tr>\n",
       "      <th>75%</th>\n",
       "      <td>751.000000</td>\n",
       "      <td>65.000000</td>\n",
       "      <td>7454.000000</td>\n",
       "    </tr>\n",
       "    <tr>\n",
       "      <th>max</th>\n",
       "      <td>1000.000000</td>\n",
       "      <td>500.000000</td>\n",
       "      <td>9998.000000</td>\n",
       "    </tr>\n",
       "  </tbody>\n",
       "</table>\n",
       "</div>"
      ],
      "text/plain": [
       "       customer_id          age     zip_code\n",
       "count  1001.000000  1001.000000  1001.000000\n",
       "mean    500.942058    50.303696  5000.693307\n",
       "std     289.013599    22.657398  2886.084454\n",
       "min       1.000000    20.000000     2.000000\n",
       "25%     251.000000    34.000000  2398.000000\n",
       "50%     501.000000    50.000000  5079.000000\n",
       "75%     751.000000    65.000000  7454.000000\n",
       "max    1000.000000   500.000000  9998.000000"
      ]
     },
     "execution_count": 35,
     "metadata": {},
     "output_type": "execute_result"
    }
   ],
   "source": [
    "customers_df.describe()"
   ]
  },
  {
   "cell_type": "markdown",
   "id": "de13f3e5",
   "metadata": {},
   "source": [
    "Berdasarkan hasil tersebut dapat dilihat bahwa kolom age memiliki nilai maksimum yang cukup masuk akal. Selain itu, jika Ada perhatikan, nilai mean dan standard deviation ikut berubah setelah kita menangani inaccurate value tersebut."
   ]
  },
  {
   "cell_type": "markdown",
   "id": "fb3b9a2c",
   "metadata": {},
   "source": [
    "## Membersihkan Data orders_df "
   ]
  },
  {
   "cell_type": "markdown",
   "id": "13ebcf27",
   "metadata": {},
   "source": [
    "Oke, sekarang kita telah menyelesaikan semua permasalahan yang ada pada customers_df. Selanjutnya, kita akan mengatasi permasalahan pada orders_df. Berdasarkan proses assessing data sebelumnya, diketahui bahwa terdapat kesalahan tipe data untuk kolom order_date & delivery_date.\n",
    "\n",
    "Untuk mengatasi masalah ini, kita akan mengganti tipe data pada kolom order_date & delivery_date menjadi datetime. Proses ini dapat dilakukan menggunakan function to_datetime() yang disediakan oleh library pandas. Berikut merupakan contoh kode untuk melakukannya."
   ]
  },
  {
   "cell_type": "code",
   "execution_count": 38,
   "id": "fdcd046a",
   "metadata": {},
   "outputs": [],
   "source": [
    "datetime_columns = [\"order_date\", \"delivery_date\"]\\\n",
    "\n",
    "for column in datetime_columns:\n",
    "    orders_df[column] = pd.to_datetime(orders_df[column])"
   ]
  },
  {
   "cell_type": "markdown",
   "id": "40c6b03e",
   "metadata": {},
   "source": [
    "Kode di atas akan mengubah tipe data pada kolom order_date & delivery_date menjadi datetime. Untuk memastikan hal ini berjalan sesuai harapan, periksa kembali tipe data tersebut menggunakan method info()."
   ]
  },
  {
   "cell_type": "code",
   "execution_count": 41,
   "id": "2de4985c",
   "metadata": {},
   "outputs": [
    {
     "name": "stdout",
     "output_type": "stream",
     "text": [
      "<class 'pandas.core.frame.DataFrame'>\n",
      "RangeIndex: 1000 entries, 0 to 999\n",
      "Data columns (total 5 columns):\n",
      " #   Column         Non-Null Count  Dtype         \n",
      "---  ------         --------------  -----         \n",
      " 0   order_id       1000 non-null   int64         \n",
      " 1   customer_id    1000 non-null   int64         \n",
      " 2   payment        1000 non-null   int64         \n",
      " 3   order_date     1000 non-null   datetime64[ns]\n",
      " 4   delivery_date  1000 non-null   datetime64[ns]\n",
      "dtypes: datetime64[ns](2), int64(3)\n",
      "memory usage: 39.2 KB\n"
     ]
    }
   ],
   "source": [
    "orders_df.info()"
   ]
  },
  {
   "cell_type": "markdown",
   "id": "56f8e46d",
   "metadata": {},
   "source": [
    "## Membersihkan Data product_df"
   ]
  },
  {
   "cell_type": "markdown",
   "id": "0258065f",
   "metadata": {},
   "source": [
    "Data berikutnya yang akan kita bersihkan ialah product_df. Sesuai hasil assessing data sebelumnya, kita mengetahui bahwa terdapat 6 data yang terduplikasi pada product_df. Untuk mengatasi hal ini, kita perlu membuang data yang sama tersebut menggunakan method drop_duplicates() seperti contoh berikut"
   ]
  },
  {
   "cell_type": "code",
   "execution_count": 42,
   "id": "ff730779",
   "metadata": {},
   "outputs": [],
   "source": [
    "product_df.drop_duplicates(inplace=True)"
   ]
  },
  {
   "cell_type": "markdown",
   "id": "88485b67",
   "metadata": {},
   "source": [
    "Kode di atas akan menghapus semua data yang duplikat. Untuk memastikan kode tersebut berjalan sesuai harapan, jalankanlah kode berikut."
   ]
  },
  {
   "cell_type": "code",
   "execution_count": 44,
   "id": "77b9e2cf",
   "metadata": {},
   "outputs": [
    {
     "name": "stdout",
     "output_type": "stream",
     "text": [
      "Jumlah Duplikasi:  0\n"
     ]
    }
   ],
   "source": [
    "print(\"Jumlah Duplikasi: \", product_df.duplicated().sum())"
   ]
  },
  {
   "cell_type": "markdown",
   "id": "78f232b5",
   "metadata": {},
   "source": [
    "Jika proses penghapusan data yang duplikat berjalan dengan lancar, kode di atas akan menghasilkan keluaran seperti berikut “Jumlah duplikasi:  0”."
   ]
  },
  {
   "cell_type": "markdown",
   "id": "a9f439e9",
   "metadata": {},
   "source": [
    "## Membersihkan Data sales_df"
   ]
  },
  {
   "cell_type": "markdown",
   "id": "203944ab",
   "metadata": {},
   "source": [
    "Data selanjutnya yang perlu Anda bersihkan ialah sales_df. Berdasarkan hasil penilain data sebelumnya, diketahui bahwa terdapat 19 missing value pada kolom total_price. Untuk mengetahui proses penanganan missing value yang paling sesuai, kita perlu melihat terlebih dahulu baris data yang mengandung missing value tersebut. "
   ]
  },
  {
   "cell_type": "code",
   "execution_count": 45,
   "id": "5291a20d",
   "metadata": {},
   "outputs": [
    {
     "data": {
      "text/html": [
       "<div>\n",
       "<style scoped>\n",
       "    .dataframe tbody tr th:only-of-type {\n",
       "        vertical-align: middle;\n",
       "    }\n",
       "\n",
       "    .dataframe tbody tr th {\n",
       "        vertical-align: top;\n",
       "    }\n",
       "\n",
       "    .dataframe thead th {\n",
       "        text-align: right;\n",
       "    }\n",
       "</style>\n",
       "<table border=\"1\" class=\"dataframe\">\n",
       "  <thead>\n",
       "    <tr style=\"text-align: right;\">\n",
       "      <th></th>\n",
       "      <th>sales_id</th>\n",
       "      <th>order_id</th>\n",
       "      <th>product_id</th>\n",
       "      <th>price_per_unit</th>\n",
       "      <th>quantity</th>\n",
       "      <th>total_price</th>\n",
       "    </tr>\n",
       "  </thead>\n",
       "  <tbody>\n",
       "    <tr>\n",
       "      <th>9</th>\n",
       "      <td>9</td>\n",
       "      <td>2</td>\n",
       "      <td>1196</td>\n",
       "      <td>105</td>\n",
       "      <td>1</td>\n",
       "      <td>NaN</td>\n",
       "    </tr>\n",
       "    <tr>\n",
       "      <th>121</th>\n",
       "      <td>121</td>\n",
       "      <td>27</td>\n",
       "      <td>1027</td>\n",
       "      <td>90</td>\n",
       "      <td>3</td>\n",
       "      <td>NaN</td>\n",
       "    </tr>\n",
       "    <tr>\n",
       "      <th>278</th>\n",
       "      <td>278</td>\n",
       "      <td>63</td>\n",
       "      <td>360</td>\n",
       "      <td>94</td>\n",
       "      <td>2</td>\n",
       "      <td>NaN</td>\n",
       "    </tr>\n",
       "    <tr>\n",
       "      <th>421</th>\n",
       "      <td>421</td>\n",
       "      <td>95</td>\n",
       "      <td>1091</td>\n",
       "      <td>115</td>\n",
       "      <td>1</td>\n",
       "      <td>NaN</td>\n",
       "    </tr>\n",
       "    <tr>\n",
       "      <th>489</th>\n",
       "      <td>489</td>\n",
       "      <td>108</td>\n",
       "      <td>1193</td>\n",
       "      <td>105</td>\n",
       "      <td>3</td>\n",
       "      <td>NaN</td>\n",
       "    </tr>\n",
       "    <tr>\n",
       "      <th>539</th>\n",
       "      <td>539</td>\n",
       "      <td>117</td>\n",
       "      <td>405</td>\n",
       "      <td>119</td>\n",
       "      <td>2</td>\n",
       "      <td>NaN</td>\n",
       "    </tr>\n",
       "    <tr>\n",
       "      <th>636</th>\n",
       "      <td>636</td>\n",
       "      <td>134</td>\n",
       "      <td>653</td>\n",
       "      <td>93</td>\n",
       "      <td>3</td>\n",
       "      <td>NaN</td>\n",
       "    </tr>\n",
       "    <tr>\n",
       "      <th>687</th>\n",
       "      <td>687</td>\n",
       "      <td>145</td>\n",
       "      <td>1138</td>\n",
       "      <td>102</td>\n",
       "      <td>1</td>\n",
       "      <td>NaN</td>\n",
       "    </tr>\n",
       "    <tr>\n",
       "      <th>854</th>\n",
       "      <td>854</td>\n",
       "      <td>177</td>\n",
       "      <td>64</td>\n",
       "      <td>104</td>\n",
       "      <td>1</td>\n",
       "      <td>NaN</td>\n",
       "    </tr>\n",
       "    <tr>\n",
       "      <th>1079</th>\n",
       "      <td>1079</td>\n",
       "      <td>222</td>\n",
       "      <td>908</td>\n",
       "      <td>94</td>\n",
       "      <td>3</td>\n",
       "      <td>NaN</td>\n",
       "    </tr>\n",
       "    <tr>\n",
       "      <th>1193</th>\n",
       "      <td>1193</td>\n",
       "      <td>248</td>\n",
       "      <td>1121</td>\n",
       "      <td>102</td>\n",
       "      <td>2</td>\n",
       "      <td>NaN</td>\n",
       "    </tr>\n",
       "    <tr>\n",
       "      <th>1313</th>\n",
       "      <td>1313</td>\n",
       "      <td>272</td>\n",
       "      <td>826</td>\n",
       "      <td>117</td>\n",
       "      <td>1</td>\n",
       "      <td>NaN</td>\n",
       "    </tr>\n",
       "    <tr>\n",
       "      <th>1548</th>\n",
       "      <td>1548</td>\n",
       "      <td>316</td>\n",
       "      <td>103</td>\n",
       "      <td>118</td>\n",
       "      <td>3</td>\n",
       "      <td>NaN</td>\n",
       "    </tr>\n",
       "    <tr>\n",
       "      <th>1688</th>\n",
       "      <td>1688</td>\n",
       "      <td>345</td>\n",
       "      <td>428</td>\n",
       "      <td>107</td>\n",
       "      <td>1</td>\n",
       "      <td>NaN</td>\n",
       "    </tr>\n",
       "    <tr>\n",
       "      <th>1775</th>\n",
       "      <td>1775</td>\n",
       "      <td>359</td>\n",
       "      <td>694</td>\n",
       "      <td>113</td>\n",
       "      <td>2</td>\n",
       "      <td>NaN</td>\n",
       "    </tr>\n",
       "    <tr>\n",
       "      <th>1902</th>\n",
       "      <td>1902</td>\n",
       "      <td>381</td>\n",
       "      <td>1218</td>\n",
       "      <td>105</td>\n",
       "      <td>3</td>\n",
       "      <td>NaN</td>\n",
       "    </tr>\n",
       "    <tr>\n",
       "      <th>2025</th>\n",
       "      <td>2025</td>\n",
       "      <td>408</td>\n",
       "      <td>611</td>\n",
       "      <td>112</td>\n",
       "      <td>3</td>\n",
       "      <td>NaN</td>\n",
       "    </tr>\n",
       "    <tr>\n",
       "      <th>2164</th>\n",
       "      <td>2164</td>\n",
       "      <td>436</td>\n",
       "      <td>583</td>\n",
       "      <td>100</td>\n",
       "      <td>3</td>\n",
       "      <td>NaN</td>\n",
       "    </tr>\n",
       "    <tr>\n",
       "      <th>2347</th>\n",
       "      <td>2347</td>\n",
       "      <td>476</td>\n",
       "      <td>696</td>\n",
       "      <td>113</td>\n",
       "      <td>2</td>\n",
       "      <td>NaN</td>\n",
       "    </tr>\n",
       "  </tbody>\n",
       "</table>\n",
       "</div>"
      ],
      "text/plain": [
       "      sales_id  order_id  product_id  price_per_unit  quantity  total_price\n",
       "9            9         2        1196             105         1          NaN\n",
       "121        121        27        1027              90         3          NaN\n",
       "278        278        63         360              94         2          NaN\n",
       "421        421        95        1091             115         1          NaN\n",
       "489        489       108        1193             105         3          NaN\n",
       "539        539       117         405             119         2          NaN\n",
       "636        636       134         653              93         3          NaN\n",
       "687        687       145        1138             102         1          NaN\n",
       "854        854       177          64             104         1          NaN\n",
       "1079      1079       222         908              94         3          NaN\n",
       "1193      1193       248        1121             102         2          NaN\n",
       "1313      1313       272         826             117         1          NaN\n",
       "1548      1548       316         103             118         3          NaN\n",
       "1688      1688       345         428             107         1          NaN\n",
       "1775      1775       359         694             113         2          NaN\n",
       "1902      1902       381        1218             105         3          NaN\n",
       "2025      2025       408         611             112         3          NaN\n",
       "2164      2164       436         583             100         3          NaN\n",
       "2347      2347       476         696             113         2          NaN"
      ]
     },
     "execution_count": 45,
     "metadata": {},
     "output_type": "execute_result"
    }
   ],
   "source": [
    "sales_df[sales_df.total_price.isna()]"
   ]
  },
  {
   "cell_type": "markdown",
   "id": "30d793c1",
   "metadata": {},
   "source": [
    "Kode di atas akan menampilkan semua baris data yang memiliki missing value pada kolom total_price seperti pada gambar diatas.\n",
    "\n",
    "Berdasarkan tampilan data tersebut, kita menemukan bahwa nilai total_price merupakan hasil perkalian antara price_per_unit dan quantity. Kita dapat menggunakan pola ini untuk menangani missing value pada kolom total_price. Berikut merupakan contoh penerapan kode untuk melakukannya."
   ]
  },
  {
   "cell_type": "code",
   "execution_count": 47,
   "id": "f58d184a",
   "metadata": {},
   "outputs": [],
   "source": [
    "sales_df[\"total_price\"] = sales_df[\"price_per_unit\"] * sales_df[\"quantity\"]"
   ]
  },
  {
   "cell_type": "markdown",
   "id": "26fbd33e",
   "metadata": {},
   "source": [
    "Kode di atas akan mengatasi seluruh missing value serta memastikan nilai pada kolom total_price telah sesuai. Untuk memastikan hal ini, Anda dapat memeriksa kembali jumlah missing value pada sales_df menggunakan kode berikut."
   ]
  },
  {
   "cell_type": "code",
   "execution_count": 48,
   "id": "94e67a7a",
   "metadata": {},
   "outputs": [
    {
     "data": {
      "text/plain": [
       "sales_id          0\n",
       "order_id          0\n",
       "product_id        0\n",
       "price_per_unit    0\n",
       "quantity          0\n",
       "total_price       0\n",
       "dtype: int64"
      ]
     },
     "execution_count": 48,
     "metadata": {},
     "output_type": "execute_result"
    }
   ],
   "source": [
    "sales_df.isna().sum()"
   ]
  }
 ],
 "metadata": {
  "kernelspec": {
   "display_name": "Python 3 (ipykernel)",
   "language": "python",
   "name": "python3"
  },
  "language_info": {
   "codemirror_mode": {
    "name": "ipython",
    "version": 3
   },
   "file_extension": ".py",
   "mimetype": "text/x-python",
   "name": "python",
   "nbconvert_exporter": "python",
   "pygments_lexer": "ipython3",
   "version": "3.9.13"
  }
 },
 "nbformat": 4,
 "nbformat_minor": 5
}
